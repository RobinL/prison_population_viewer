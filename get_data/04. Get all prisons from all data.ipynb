{
 "cells": [
  {
   "cell_type": "code",
   "execution_count": 1,
   "metadata": {
    "collapsed": true
   },
   "outputs": [],
   "source": [
    "import pandas as pd "
   ]
  },
  {
   "cell_type": "code",
   "execution_count": 2,
   "metadata": {
    "collapsed": true
   },
   "outputs": [],
   "source": [
    "dfs = []\n",
    "dfs.append(pd.read_csv(\"all_pop_data_rtf.csv\"))\n",
    "dfs.append(pd.read_csv(\"all_pop_data_txt.csv\"))"
   ]
  },
  {
   "cell_type": "code",
   "execution_count": 3,
   "metadata": {
    "collapsed": false
   },
   "outputs": [
    {
     "data": {
      "text/html": [
       "<div>\n",
       "<table border=\"1\" class=\"dataframe\">\n",
       "  <thead>\n",
       "    <tr style=\"text-align: right;\">\n",
       "      <th></th>\n",
       "      <th>prison_name</th>\n",
       "      <th>baseline_cna</th>\n",
       "      <th>in_use_cna</th>\n",
       "      <th>operational_capacity</th>\n",
       "      <th>population</th>\n",
       "      <th>perc_pop_to_used_cna</th>\n",
       "      <th>perc_acc_available</th>\n",
       "      <th>date</th>\n",
       "      <th>source</th>\n",
       "      <th>prison_name_original</th>\n",
       "      <th>prison_name_group</th>\n",
       "    </tr>\n",
       "  </thead>\n",
       "  <tbody>\n",
       "    <tr>\n",
       "      <th>0</th>\n",
       "      <td>Altcourse</td>\n",
       "      <td>794</td>\n",
       "      <td>794</td>\n",
       "      <td>1133</td>\n",
       "      <td>1113</td>\n",
       "      <td>1.40</td>\n",
       "      <td>1</td>\n",
       "      <td>2015-02-27</td>\n",
       "      <td>http://www.gov.uk/government/uploads/system/up...</td>\n",
       "      <td>Altcourse</td>\n",
       "      <td>Altcourse</td>\n",
       "    </tr>\n",
       "    <tr>\n",
       "      <th>1</th>\n",
       "      <td>Ashfield</td>\n",
       "      <td>408</td>\n",
       "      <td>408</td>\n",
       "      <td>400</td>\n",
       "      <td>391</td>\n",
       "      <td>0.96</td>\n",
       "      <td>1</td>\n",
       "      <td>2015-02-27</td>\n",
       "      <td>http://www.gov.uk/government/uploads/system/up...</td>\n",
       "      <td>Ashfield</td>\n",
       "      <td>Ashfield</td>\n",
       "    </tr>\n",
       "  </tbody>\n",
       "</table>\n",
       "</div>"
      ],
      "text/plain": [
       "  prison_name  baseline_cna  in_use_cna  operational_capacity  population  \\\n",
       "0   Altcourse           794         794                  1133        1113   \n",
       "1    Ashfield           408         408                   400         391   \n",
       "\n",
       "   perc_pop_to_used_cna  perc_acc_available        date  \\\n",
       "0                  1.40                   1  2015-02-27   \n",
       "1                  0.96                   1  2015-02-27   \n",
       "\n",
       "                                              source prison_name_original  \\\n",
       "0  http://www.gov.uk/government/uploads/system/up...            Altcourse   \n",
       "1  http://www.gov.uk/government/uploads/system/up...             Ashfield   \n",
       "\n",
       "  prison_name_group  \n",
       "0         Altcourse  \n",
       "1          Ashfield  "
      ]
     },
     "execution_count": 3,
     "metadata": {},
     "output_type": "execute_result"
    }
   ],
   "source": [
    "all_data = pd.concat(dfs)\n",
    "pgs = pd.read_csv(\"prison_groups_lookup.csv\")\n",
    "all_data = all_data.merge(pgs, left_on=\"prison_name\", right_on=\"prison_name_original\", how=\"left\")\n",
    "all_data.head(2)"
   ]
  },
  {
   "cell_type": "code",
   "execution_count": 4,
   "metadata": {
    "collapsed": false
   },
   "outputs": [
    {
     "data": {
      "text/html": [
       "<div>\n",
       "<table border=\"1\" class=\"dataframe\">\n",
       "  <thead>\n",
       "    <tr style=\"text-align: right;\">\n",
       "      <th></th>\n",
       "      <th>baseline_cna</th>\n",
       "      <th>in_use_cna</th>\n",
       "      <th>operational_capacity</th>\n",
       "      <th>population</th>\n",
       "      <th>perc_pop_to_used_cna</th>\n",
       "      <th>perc_acc_available</th>\n",
       "      <th>date</th>\n",
       "      <th>source</th>\n",
       "      <th>prison_name_group</th>\n",
       "    </tr>\n",
       "  </thead>\n",
       "  <tbody>\n",
       "    <tr>\n",
       "      <th>0</th>\n",
       "      <td>794</td>\n",
       "      <td>794</td>\n",
       "      <td>1133</td>\n",
       "      <td>1113</td>\n",
       "      <td>1.40</td>\n",
       "      <td>1</td>\n",
       "      <td>2015-02-27</td>\n",
       "      <td>http://www.gov.uk/government/uploads/system/up...</td>\n",
       "      <td>Altcourse</td>\n",
       "    </tr>\n",
       "    <tr>\n",
       "      <th>1</th>\n",
       "      <td>408</td>\n",
       "      <td>408</td>\n",
       "      <td>400</td>\n",
       "      <td>391</td>\n",
       "      <td>0.96</td>\n",
       "      <td>1</td>\n",
       "      <td>2015-02-27</td>\n",
       "      <td>http://www.gov.uk/government/uploads/system/up...</td>\n",
       "      <td>Ashfield</td>\n",
       "    </tr>\n",
       "  </tbody>\n",
       "</table>\n",
       "</div>"
      ],
      "text/plain": [
       "   baseline_cna  in_use_cna  operational_capacity  population  \\\n",
       "0           794         794                  1133        1113   \n",
       "1           408         408                   400         391   \n",
       "\n",
       "   perc_pop_to_used_cna  perc_acc_available        date  \\\n",
       "0                  1.40                   1  2015-02-27   \n",
       "1                  0.96                   1  2015-02-27   \n",
       "\n",
       "                                              source prison_name_group  \n",
       "0  http://www.gov.uk/government/uploads/system/up...         Altcourse  \n",
       "1  http://www.gov.uk/government/uploads/system/up...          Ashfield  "
      ]
     },
     "execution_count": 4,
     "metadata": {},
     "output_type": "execute_result"
    }
   ],
   "source": [
    "all_data = all_data.drop([\"prison_name\", \"prison_name_original\"], axis=1)\n",
    "all_data.head(2)\n"
   ]
  },
  {
   "cell_type": "code",
   "execution_count": 5,
   "metadata": {
    "collapsed": false
   },
   "outputs": [],
   "source": [
    "all_data  = all_data.pivot_table(index=[\"prison_name_group\", \"source\", \"date\"], aggfunc=\"sum\", values = [\"operational_capacity\", \"baseline_cna\", \"in_use_cna\",\"population\"]).reset_index()"
   ]
  },
  {
   "cell_type": "code",
   "execution_count": 6,
   "metadata": {
    "collapsed": false
   },
   "outputs": [],
   "source": [
    "all_prisons = all_data.pivot_table(index=\"prison_name_group\")\n",
    "all_prisons = all_prisons.reset_index()\n",
    "all_prisons = all_prisons[[\"prison_name_group\"]]\n",
    "all_prisons.columns = [\"prison_name\"]"
   ]
  },
  {
   "cell_type": "code",
   "execution_count": 7,
   "metadata": {
    "collapsed": false
   },
   "outputs": [],
   "source": [
    "all_prisons.to_csv(\"all_prisons_including_closed.csv\", index=False, encoding=\"utf-8\")"
   ]
  },
  {
   "cell_type": "code",
   "execution_count": null,
   "metadata": {
    "collapsed": true
   },
   "outputs": [],
   "source": []
  },
  {
   "cell_type": "code",
   "execution_count": null,
   "metadata": {
    "collapsed": true
   },
   "outputs": [],
   "source": []
  },
  {
   "cell_type": "code",
   "execution_count": null,
   "metadata": {
    "collapsed": true
   },
   "outputs": [],
   "source": []
  }
 ],
 "metadata": {
  "kernelspec": {
   "display_name": "Python 2",
   "language": "python",
   "name": "python2"
  },
  "language_info": {
   "codemirror_mode": {
    "name": "ipython",
    "version": 2
   },
   "file_extension": ".py",
   "mimetype": "text/x-python",
   "name": "python",
   "nbconvert_exporter": "python",
   "pygments_lexer": "ipython2",
   "version": "2.7.11"
  }
 },
 "nbformat": 4,
 "nbformat_minor": 0
}
