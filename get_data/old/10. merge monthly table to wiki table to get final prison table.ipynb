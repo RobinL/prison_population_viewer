{
 "cells": [
  {
   "cell_type": "code",
   "execution_count": 21,
   "metadata": {
    "collapsed": true
   },
   "outputs": [],
   "source": [
    "import pandas as pd"
   ]
  },
  {
   "cell_type": "code",
   "execution_count": 22,
   "metadata": {
    "collapsed": false
   },
   "outputs": [
    {
     "data": {
      "text/html": [
       "<div>\n",
       "<table border=\"1\" class=\"dataframe\">\n",
       "  <thead>\n",
       "    <tr style=\"text-align: right;\">\n",
       "      <th></th>\n",
       "      <th>moj_prison_name</th>\n",
       "      <th>gscraped_desc</th>\n",
       "      <th>gscraped_address</th>\n",
       "      <th>gscraped_opened</th>\n",
       "      <th>gscraped_capacity</th>\n",
       "      <th>gscraped_type</th>\n",
       "      <th>gscraped_cat</th>\n",
       "      <th>gscraped_postcode</th>\n",
       "      <th>gscraped_lat</th>\n",
       "      <th>gscraped_lng</th>\n",
       "    </tr>\n",
       "  </thead>\n",
       "  <tbody>\n",
       "    <tr>\n",
       "      <th>0</th>\n",
       "      <td>Acklington</td>\n",
       "      <td>HM Prison Acklington was a Category C men's pr...</td>\n",
       "      <td>HMP Northumberland, Morpeth, Northumberland, N...</td>\n",
       "      <td>1972</td>\n",
       "      <td>NaN</td>\n",
       "      <td>male</td>\n",
       "      <td>c</td>\n",
       "      <td>NE65 9XG</td>\n",
       "      <td>55.296464</td>\n",
       "      <td>-1.632415</td>\n",
       "    </tr>\n",
       "    <tr>\n",
       "      <th>1</th>\n",
       "      <td>Altcourse</td>\n",
       "      <td>HM Prison Altcourse is a Category B men's priv...</td>\n",
       "      <td>Brookfield Dr, Liverpool L9 7LH</td>\n",
       "      <td>1997</td>\n",
       "      <td>1,324</td>\n",
       "      <td>male, yoi</td>\n",
       "      <td>b</td>\n",
       "      <td>L9 7LH</td>\n",
       "      <td>53.460927</td>\n",
       "      <td>-2.936031</td>\n",
       "    </tr>\n",
       "  </tbody>\n",
       "</table>\n",
       "</div>"
      ],
      "text/plain": [
       "  moj_prison_name                                      gscraped_desc  \\\n",
       "0      Acklington  HM Prison Acklington was a Category C men's pr...   \n",
       "1       Altcourse  HM Prison Altcourse is a Category B men's priv...   \n",
       "\n",
       "                                    gscraped_address gscraped_opened  \\\n",
       "0  HMP Northumberland, Morpeth, Northumberland, N...            1972   \n",
       "1                    Brookfield Dr, Liverpool L9 7LH            1997   \n",
       "\n",
       "  gscraped_capacity gscraped_type gscraped_cat gscraped_postcode  \\\n",
       "0               NaN          male           c           NE65 9XG   \n",
       "1             1,324     male, yoi           b             L9 7LH   \n",
       "\n",
       "   gscraped_lat  gscraped_lng  \n",
       "0     55.296464     -1.632415  \n",
       "1     53.460927     -2.936031  "
      ]
     },
     "execution_count": 22,
     "metadata": {},
     "output_type": "execute_result"
    }
   ],
   "source": [
    "df_g = pd.read_csv(\"google_scraped_processed.csv\")\n",
    "df_g.head(2)"
   ]
  },
  {
   "cell_type": "code",
   "execution_count": 23,
   "metadata": {
    "collapsed": false
   },
   "outputs": [
    {
     "data": {
      "text/html": [
       "<div>\n",
       "<table border=\"1\" class=\"dataframe\">\n",
       "  <thead>\n",
       "    <tr style=\"text-align: right;\">\n",
       "      <th></th>\n",
       "      <th>dt_name</th>\n",
       "      <th>dt_full_name</th>\n",
       "      <th>dt_region</th>\n",
       "      <th>dt_url</th>\n",
       "      <th>dt_address</th>\n",
       "      <th>dt_main_switchboard</th>\n",
       "      <th>dt_type_of_prison</th>\n",
       "      <th>dt_postcode</th>\n",
       "      <th>dt_lat</th>\n",
       "      <th>dt_lng</th>\n",
       "    </tr>\n",
       "  </thead>\n",
       "  <tbody>\n",
       "    <tr>\n",
       "      <th>0</th>\n",
       "      <td>Altcourse</td>\n",
       "      <td>HMP Altcourse</td>\n",
       "      <td>NW</td>\n",
       "      <td>http://www.doingtime.co.uk/hmp-altcourse/</td>\n",
       "      <td>Higher Lane  Fazakerley  Liverpool L9 7LH</td>\n",
       "      <td>0151 522 2000</td>\n",
       "      <td>Male Cat B</td>\n",
       "      <td>L9 7LH</td>\n",
       "      <td>53.460927</td>\n",
       "      <td>-2.936031</td>\n",
       "    </tr>\n",
       "    <tr>\n",
       "      <th>1</th>\n",
       "      <td>Ashfield</td>\n",
       "      <td>HMP Ashfield</td>\n",
       "      <td>SW</td>\n",
       "      <td>http://www.doingtime.co.uk/hmp-ashfield/</td>\n",
       "      <td>Shortwood Road,  Pucklechurch,  Bristol,  BS16...</td>\n",
       "      <td>0117 303 8000</td>\n",
       "      <td>Male Cat C Sex Offenders</td>\n",
       "      <td>BS16 9QJ</td>\n",
       "      <td>51.482422</td>\n",
       "      <td>-2.438866</td>\n",
       "    </tr>\n",
       "  </tbody>\n",
       "</table>\n",
       "</div>"
      ],
      "text/plain": [
       "     dt_name   dt_full_name dt_region  \\\n",
       "0  Altcourse  HMP Altcourse        NW   \n",
       "1   Ashfield   HMP Ashfield        SW   \n",
       "\n",
       "                                      dt_url  \\\n",
       "0  http://www.doingtime.co.uk/hmp-altcourse/   \n",
       "1   http://www.doingtime.co.uk/hmp-ashfield/   \n",
       "\n",
       "                                          dt_address dt_main_switchboard  \\\n",
       "0          Higher Lane  Fazakerley  Liverpool L9 7LH       0151 522 2000   \n",
       "1  Shortwood Road,  Pucklechurch,  Bristol,  BS16...       0117 303 8000   \n",
       "\n",
       "          dt_type_of_prison dt_postcode     dt_lat    dt_lng  \n",
       "0                Male Cat B      L9 7LH  53.460927 -2.936031  \n",
       "1  Male Cat C Sex Offenders    BS16 9QJ  51.482422 -2.438866  "
      ]
     },
     "execution_count": 23,
     "metadata": {},
     "output_type": "execute_result"
    }
   ],
   "source": [
    "df_from_doingtime = pd.read_csv(\"doingtime_data.csv\")\n",
    "df_from_doingtime.head(2)"
   ]
  },
  {
   "cell_type": "code",
   "execution_count": 24,
   "metadata": {
    "collapsed": false
   },
   "outputs": [
    {
     "data": {
      "text/html": [
       "<div>\n",
       "<table border=\"1\" class=\"dataframe\">\n",
       "  <thead>\n",
       "    <tr style=\"text-align: right;\">\n",
       "      <th></th>\n",
       "      <th>moj_prison_name</th>\n",
       "      <th>dt_prison_name</th>\n",
       "      <th>wiki_name</th>\n",
       "    </tr>\n",
       "  </thead>\n",
       "  <tbody>\n",
       "    <tr>\n",
       "      <th>0</th>\n",
       "      <td>Acklington</td>\n",
       "      <td>NaN</td>\n",
       "      <td>NaN</td>\n",
       "    </tr>\n",
       "    <tr>\n",
       "      <th>1</th>\n",
       "      <td>Altcourse</td>\n",
       "      <td>Altcourse</td>\n",
       "      <td>Altcourse</td>\n",
       "    </tr>\n",
       "  </tbody>\n",
       "</table>\n",
       "</div>"
      ],
      "text/plain": [
       "  moj_prison_name dt_prison_name  wiki_name\n",
       "0      Acklington            NaN        NaN\n",
       "1       Altcourse      Altcourse  Altcourse"
      ]
     },
     "execution_count": 24,
     "metadata": {},
     "output_type": "execute_result"
    }
   ],
   "source": [
    "join_table = pd.read_csv(\"manually_tie_up_wiki_pop_figures.csv\")\n",
    "join_table.head(2)"
   ]
  },
  {
   "cell_type": "code",
   "execution_count": 25,
   "metadata": {
    "collapsed": false
   },
   "outputs": [
    {
     "data": {
      "text/html": [
       "<div>\n",
       "<table border=\"1\" class=\"dataframe\">\n",
       "  <thead>\n",
       "    <tr style=\"text-align: right;\">\n",
       "      <th></th>\n",
       "      <th>moj_prison_name</th>\n",
       "      <th>gscraped_desc</th>\n",
       "      <th>gscraped_address</th>\n",
       "      <th>gscraped_opened</th>\n",
       "      <th>gscraped_capacity</th>\n",
       "      <th>gscraped_type</th>\n",
       "      <th>gscraped_cat</th>\n",
       "      <th>gscraped_postcode</th>\n",
       "      <th>gscraped_lat</th>\n",
       "      <th>gscraped_lng</th>\n",
       "      <th>...</th>\n",
       "      <th>dt_name</th>\n",
       "      <th>dt_full_name</th>\n",
       "      <th>dt_region</th>\n",
       "      <th>dt_url</th>\n",
       "      <th>dt_address</th>\n",
       "      <th>dt_main_switchboard</th>\n",
       "      <th>dt_type_of_prison</th>\n",
       "      <th>dt_postcode</th>\n",
       "      <th>dt_lat</th>\n",
       "      <th>dt_lng</th>\n",
       "    </tr>\n",
       "  </thead>\n",
       "  <tbody>\n",
       "    <tr>\n",
       "      <th>0</th>\n",
       "      <td>Acklington</td>\n",
       "      <td>HM Prison Acklington was a Category C men's pr...</td>\n",
       "      <td>HMP Northumberland, Morpeth, Northumberland, N...</td>\n",
       "      <td>1972</td>\n",
       "      <td>NaN</td>\n",
       "      <td>male</td>\n",
       "      <td>c</td>\n",
       "      <td>NE65 9XG</td>\n",
       "      <td>55.296464</td>\n",
       "      <td>-1.632415</td>\n",
       "      <td>...</td>\n",
       "      <td>NaN</td>\n",
       "      <td>NaN</td>\n",
       "      <td>NaN</td>\n",
       "      <td>NaN</td>\n",
       "      <td>NaN</td>\n",
       "      <td>NaN</td>\n",
       "      <td>NaN</td>\n",
       "      <td>NaN</td>\n",
       "      <td>NaN</td>\n",
       "      <td>NaN</td>\n",
       "    </tr>\n",
       "    <tr>\n",
       "      <th>1</th>\n",
       "      <td>Altcourse</td>\n",
       "      <td>HM Prison Altcourse is a Category B men's priv...</td>\n",
       "      <td>Brookfield Dr, Liverpool L9 7LH</td>\n",
       "      <td>1997</td>\n",
       "      <td>1,324</td>\n",
       "      <td>male, yoi</td>\n",
       "      <td>b</td>\n",
       "      <td>L9 7LH</td>\n",
       "      <td>53.460927</td>\n",
       "      <td>-2.936031</td>\n",
       "      <td>...</td>\n",
       "      <td>Altcourse</td>\n",
       "      <td>HMP Altcourse</td>\n",
       "      <td>NW</td>\n",
       "      <td>http://www.doingtime.co.uk/hmp-altcourse/</td>\n",
       "      <td>Higher Lane  Fazakerley  Liverpool L9 7LH</td>\n",
       "      <td>0151 522 2000</td>\n",
       "      <td>Male Cat B</td>\n",
       "      <td>L9 7LH</td>\n",
       "      <td>53.460927</td>\n",
       "      <td>-2.936031</td>\n",
       "    </tr>\n",
       "    <tr>\n",
       "      <th>2</th>\n",
       "      <td>Ashfield</td>\n",
       "      <td>HMP Ashfield is now a Category C adult sex off...</td>\n",
       "      <td>Pucklechurch</td>\n",
       "      <td>1999</td>\n",
       "      <td>400</td>\n",
       "      <td>male</td>\n",
       "      <td>c</td>\n",
       "      <td>NaN</td>\n",
       "      <td>NaN</td>\n",
       "      <td>NaN</td>\n",
       "      <td>...</td>\n",
       "      <td>Ashfield</td>\n",
       "      <td>HMP Ashfield</td>\n",
       "      <td>SW</td>\n",
       "      <td>http://www.doingtime.co.uk/hmp-ashfield/</td>\n",
       "      <td>Shortwood Road,  Pucklechurch,  Bristol,  BS16...</td>\n",
       "      <td>0117 303 8000</td>\n",
       "      <td>Male Cat C Sex Offenders</td>\n",
       "      <td>BS16 9QJ</td>\n",
       "      <td>51.482422</td>\n",
       "      <td>-2.438866</td>\n",
       "    </tr>\n",
       "    <tr>\n",
       "      <th>3</th>\n",
       "      <td>Ashwell</td>\n",
       "      <td>HM Prison Ashwell was a Category C men's priso...</td>\n",
       "      <td>NaN</td>\n",
       "      <td>1955</td>\n",
       "      <td>NaN</td>\n",
       "      <td>male</td>\n",
       "      <td>c</td>\n",
       "      <td>NaN</td>\n",
       "      <td>NaN</td>\n",
       "      <td>NaN</td>\n",
       "      <td>...</td>\n",
       "      <td>NaN</td>\n",
       "      <td>NaN</td>\n",
       "      <td>NaN</td>\n",
       "      <td>NaN</td>\n",
       "      <td>NaN</td>\n",
       "      <td>NaN</td>\n",
       "      <td>NaN</td>\n",
       "      <td>NaN</td>\n",
       "      <td>NaN</td>\n",
       "      <td>NaN</td>\n",
       "    </tr>\n",
       "    <tr>\n",
       "      <th>4</th>\n",
       "      <td>Askham Grange</td>\n",
       "      <td>HM Prison Askham Grange is a women's open cate...</td>\n",
       "      <td>Askham Richard, York YO23 3FT</td>\n",
       "      <td>NaN</td>\n",
       "      <td>NaN</td>\n",
       "      <td>female</td>\n",
       "      <td>open</td>\n",
       "      <td>YO23 3FT</td>\n",
       "      <td>53.927081</td>\n",
       "      <td>-1.185957</td>\n",
       "      <td>...</td>\n",
       "      <td>Askham Grange</td>\n",
       "      <td>HMP &amp; YOI Askham Grange</td>\n",
       "      <td>Y&amp;H</td>\n",
       "      <td>http://www.doingtime.co.uk/hmp-yoi-askham-grange/</td>\n",
       "      <td>Askham Richard  York  YO23 3FT</td>\n",
       "      <td>01904 772000</td>\n",
       "      <td>Female adult and young offender</td>\n",
       "      <td>YO23 3FT</td>\n",
       "      <td>53.927081</td>\n",
       "      <td>-1.185957</td>\n",
       "    </tr>\n",
       "  </tbody>\n",
       "</table>\n",
       "<p>5 rows × 22 columns</p>\n",
       "</div>"
      ],
      "text/plain": [
       "  moj_prison_name                                      gscraped_desc  \\\n",
       "0      Acklington  HM Prison Acklington was a Category C men's pr...   \n",
       "1       Altcourse  HM Prison Altcourse is a Category B men's priv...   \n",
       "2        Ashfield  HMP Ashfield is now a Category C adult sex off...   \n",
       "3         Ashwell  HM Prison Ashwell was a Category C men's priso...   \n",
       "4   Askham Grange  HM Prison Askham Grange is a women's open cate...   \n",
       "\n",
       "                                    gscraped_address gscraped_opened  \\\n",
       "0  HMP Northumberland, Morpeth, Northumberland, N...            1972   \n",
       "1                    Brookfield Dr, Liverpool L9 7LH            1997   \n",
       "2                                       Pucklechurch            1999   \n",
       "3                                                NaN            1955   \n",
       "4                      Askham Richard, York YO23 3FT             NaN   \n",
       "\n",
       "  gscraped_capacity gscraped_type gscraped_cat gscraped_postcode  \\\n",
       "0               NaN          male           c           NE65 9XG   \n",
       "1             1,324     male, yoi           b             L9 7LH   \n",
       "2               400          male           c                NaN   \n",
       "3               NaN          male           c                NaN   \n",
       "4               NaN        female         open          YO23 3FT   \n",
       "\n",
       "   gscraped_lat  gscraped_lng    ...           dt_name  \\\n",
       "0     55.296464     -1.632415    ...               NaN   \n",
       "1     53.460927     -2.936031    ...         Altcourse   \n",
       "2           NaN           NaN    ...          Ashfield   \n",
       "3           NaN           NaN    ...               NaN   \n",
       "4     53.927081     -1.185957    ...     Askham Grange   \n",
       "\n",
       "              dt_full_name dt_region  \\\n",
       "0                      NaN       NaN   \n",
       "1            HMP Altcourse        NW   \n",
       "2             HMP Ashfield        SW   \n",
       "3                      NaN       NaN   \n",
       "4  HMP & YOI Askham Grange       Y&H   \n",
       "\n",
       "                                              dt_url  \\\n",
       "0                                                NaN   \n",
       "1          http://www.doingtime.co.uk/hmp-altcourse/   \n",
       "2           http://www.doingtime.co.uk/hmp-ashfield/   \n",
       "3                                                NaN   \n",
       "4  http://www.doingtime.co.uk/hmp-yoi-askham-grange/   \n",
       "\n",
       "                                          dt_address dt_main_switchboard  \\\n",
       "0                                                NaN                 NaN   \n",
       "1          Higher Lane  Fazakerley  Liverpool L9 7LH       0151 522 2000   \n",
       "2  Shortwood Road,  Pucklechurch,  Bristol,  BS16...       0117 303 8000   \n",
       "3                                                NaN                 NaN   \n",
       "4                     Askham Richard  York  YO23 3FT        01904 772000   \n",
       "\n",
       "                 dt_type_of_prison dt_postcode     dt_lat    dt_lng  \n",
       "0                              NaN         NaN        NaN       NaN  \n",
       "1                       Male Cat B      L9 7LH  53.460927 -2.936031  \n",
       "2         Male Cat C Sex Offenders    BS16 9QJ  51.482422 -2.438866  \n",
       "3                              NaN         NaN        NaN       NaN  \n",
       "4  Female adult and young offender    YO23 3FT  53.927081 -1.185957  \n",
       "\n",
       "[5 rows x 22 columns]"
      ]
     },
     "execution_count": 25,
     "metadata": {},
     "output_type": "execute_result"
    }
   ],
   "source": [
    "merged = df_g.merge(join_table,left_on=\"moj_prison_name\", right_on=\"moj_prison_name\", how=\"left\")\n",
    "merged = merged.merge(df_from_doingtime, left_on=\"dt_prison_name\", right_on=\"dt_name\", how=\"left\")\n",
    "merged.head()"
   ]
  },
  {
   "cell_type": "code",
   "execution_count": 26,
   "metadata": {
    "collapsed": false
   },
   "outputs": [],
   "source": [
    "merged[\"lat\"] = merged[\"dt_lat\"].fillna(merged[\"gscraped_lat\"])\n",
    "merged[\"lng\"] = merged[\"dt_lng\"].fillna(merged[\"gscraped_lng\"])\n",
    "merged[\"postcode\"] = merged[\"dt_postcode\"].fillna(merged[\"gscraped_postcode\"])"
   ]
  },
  {
   "cell_type": "code",
   "execution_count": 27,
   "metadata": {
    "collapsed": false
   },
   "outputs": [],
   "source": [
    "nomis_id = pd.read_csv(\"nomis_id_from_yaml.csv\")\n",
    "nomis_id = nomis_id[[\"estate\", \"nomis_id\"]]\n",
    "merged = merged.merge(nomis_id, left_on=\"moj_prison_name\", right_on=\"estate\", how=\"left\")"
   ]
  },
  {
   "cell_type": "code",
   "execution_count": 29,
   "metadata": {
    "collapsed": false
   },
   "outputs": [],
   "source": [
    "pd.options.display.max_columns = 1000\n",
    "\n",
    "def get_male_female(all_text):\n",
    "    try:\n",
    "        all_text = all_text.lower()\n",
    "        response = []\n",
    "        if \" male\" in all_text or \" men\" in all_text or re.search(r\"^male\", all_text):\n",
    "            response.append(\"male\")\n",
    "            \n",
    "\n",
    "        if \"female\" in all_text or \"women\" in all_text:\n",
    "            response.append(\"female\")\n",
    "\n",
    "        return \", \".join(response)\n",
    "    except:\n",
    "        return \"\"\n",
    "    \n",
    "def get_youth(all_text):\n",
    "    try:\n",
    "        all_text = all_text.lower()\n",
    "        response = []\n",
    "        if \"yo\" in all_text or \"youth\" in all_text or \"young\" in all_text or \"18\" in all_text or \"21\" in all_text:\n",
    "            response.append(\"youth\")\n",
    "        else:\n",
    "            response.append(\"adult\")\n",
    "        return \", \".join(response)\n",
    "    except:\n",
    "        return \"\"\n",
    "\n",
    "def get_category(all_text):\n",
    "    cats = []\n",
    "    try:\n",
    "        all_text = all_text.lower()\n",
    "        \n",
    "        if \"open prison\" in all_text or \"open category\" in all_text:\n",
    "            cats.append(\"open\")\n",
    "        \n",
    "        if \"closed\" in all_text:\n",
    "            cats.append(\"closed\")\n",
    "            \n",
    "        a = re.search(r\"cat (\\w/\\w |\\w ?& ?\\w |\\w |\\w)\", all_text)\n",
    "        \n",
    "        if a:\n",
    "            cats.append(a.group(1))\n",
    "        \n",
    "        return \", \".join(cats)\n",
    "    except:\n",
    "        return \"\"\n",
    "\n",
    "merged[\"dt_male_female\"] = merged[\"dt_type_of_prison\"].apply(get_male_female)\n",
    "merged[\"dt_youth\"] = merged[\"dt_type_of_prison\"].apply(get_youth)\n",
    "merged[\"dt_category\"] = merged[\"dt_type_of_prison\"].apply(get_category)\n",
    "\n"
   ]
  },
  {
   "cell_type": "code",
   "execution_count": null,
   "metadata": {
    "collapsed": false
   },
   "outputs": [],
   "source": []
  },
  {
   "cell_type": "code",
   "execution_count": null,
   "metadata": {
    "collapsed": false
   },
   "outputs": [],
   "source": [
    "\n"
   ]
  },
  {
   "cell_type": "code",
   "execution_count": 31,
   "metadata": {
    "collapsed": false
   },
   "outputs": [],
   "source": [
    "merged.columns = [c.lower() for c in merged.columns]"
   ]
  },
  {
   "cell_type": "code",
   "execution_count": 32,
   "metadata": {
    "collapsed": true
   },
   "outputs": [],
   "source": [
    "merged.to_csv(\"all_prison_data_final.csv\", index=False, encoding=\"utf-8\")"
   ]
  },
  {
   "cell_type": "code",
   "execution_count": null,
   "metadata": {
    "collapsed": false
   },
   "outputs": [],
   "source": []
  },
  {
   "cell_type": "code",
   "execution_count": null,
   "metadata": {
    "collapsed": true
   },
   "outputs": [],
   "source": []
  }
 ],
 "metadata": {
  "kernelspec": {
   "display_name": "Python 2",
   "language": "python",
   "name": "python2"
  },
  "language_info": {
   "codemirror_mode": {
    "name": "ipython",
    "version": 2
   },
   "file_extension": ".py",
   "mimetype": "text/x-python",
   "name": "python",
   "nbconvert_exporter": "python",
   "pygments_lexer": "ipython2",
   "version": "2.7.11"
  }
 },
 "nbformat": 4,
 "nbformat_minor": 0
}
