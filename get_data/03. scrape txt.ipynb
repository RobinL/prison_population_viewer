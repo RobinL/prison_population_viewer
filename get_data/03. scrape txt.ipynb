{
 "cells": [
  {
   "cell_type": "code",
   "execution_count": 1,
   "metadata": {
    "collapsed": true
   },
   "outputs": [],
   "source": [
    "import pandas as pd\n",
    "from cStringIO import StringIO\n",
    "import re\n",
    "import os"
   ]
  },
  {
   "cell_type": "code",
   "execution_count": 2,
   "metadata": {
    "collapsed": true
   },
   "outputs": [],
   "source": [
    "def file_to_df(lines,my_file):\n",
    "\n",
    "    re_pattern = r\"\\t\\d{1,3}%\\r\\n\"\n",
    "\n",
    "    filtered_lines = [l for l in lines if re.search(re_pattern, l) and l.count(\"\\t\") > 4]\n",
    "\n",
    "    filtered_lines = [l.replace(\"\\t**\", \"\") for l in filtered_lines]\n",
    "\n",
    "    f = \"\\n\".join(filtered_lines)\n",
    "\n",
    "    f2 = StringIO(f)\n",
    " \n",
    "    df = pd.read_csv(f2, sep = \"\\t\", header=None)\n",
    "    df.columns = [\"prison_name\",\"baseline_cna\", \"in_use_cna\", \"operational_capacity\", \"population\", \"perc_pop_to_used_cna\", \"perc_acc_available\"]\n",
    "    \n",
    "    #Parse out the date here\n",
    "    re_pattern = r\"(\\d{2}/\\d{2}/\\d{4})\"\n",
    "    \n",
    "    f = \" \".join(lines)\n",
    "    date = re.search(re_pattern, f).group(1)   \n",
    "    df[\"date\"] = date\n",
    "    df[\"source\"] = my_file\n",
    "\n",
    "    return df"
   ]
  },
  {
   "cell_type": "code",
   "execution_count": 3,
   "metadata": {
    "collapsed": false
   },
   "outputs": [],
   "source": [
    "# Now iterate through all the .docs which were converted in VBA\n",
    "dfs = []\n",
    "for i in os.listdir(\"all_doc_and_docx_to_txt/all_as_text/\"):\n",
    "    if i.endswith(\".txt\"): \n",
    "        with open(\"all_doc_and_docx_to_txt/all_as_text/\"+i) as f:\n",
    "            dfs.append(file_to_df(f.readlines(),i))\n",
    "    else:\n",
    "        continue"
   ]
  },
  {
   "cell_type": "code",
   "execution_count": 4,
   "metadata": {
    "collapsed": true
   },
   "outputs": [],
   "source": [
    "def df_to_numeric(df):\n",
    "    df.iloc[:,1:8] = df.iloc[:,1:8].replace(\"%\", \"\", regex=True).replace(\",\", \"\", regex=True).replace(\"\\*\", \"\", regex=True)\n",
    "\n",
    "    for c in df.columns[1:8]:\n",
    "        df[c]= pd.to_numeric(df[c], errors='ignore')\n",
    "    cols = [c for c in df.columns if \"perc\" in c]\n",
    "    df.loc[:,cols] = df.loc[:,cols]/100\n",
    "    df[\"date\"] = pd.to_datetime(df[\"date\"],infer_datetime_format=True)\n",
    "    df[\"prison_name\"] = df[\"prison_name\"].str.strip()\n",
    "    return df"
   ]
  },
  {
   "cell_type": "code",
   "execution_count": 5,
   "metadata": {
    "collapsed": false
   },
   "outputs": [],
   "source": [
    "df_final = pd.concat(dfs)\n",
    "df_final = df_to_numeric(df_final)"
   ]
  },
  {
   "cell_type": "code",
   "execution_count": 6,
   "metadata": {
    "collapsed": false
   },
   "outputs": [
    {
     "data": {
      "text/html": [
       "<div>\n",
       "<table border=\"1\" class=\"dataframe\">\n",
       "  <thead>\n",
       "    <tr style=\"text-align: right;\">\n",
       "      <th></th>\n",
       "      <th>prison_name</th>\n",
       "      <th>baseline_cna</th>\n",
       "      <th>in_use_cna</th>\n",
       "      <th>operational_capacity</th>\n",
       "      <th>population</th>\n",
       "      <th>perc_pop_to_used_cna</th>\n",
       "      <th>perc_acc_available</th>\n",
       "      <th>date</th>\n",
       "      <th>source</th>\n",
       "    </tr>\n",
       "  </thead>\n",
       "  <tbody>\n",
       "    <tr>\n",
       "      <th>0</th>\n",
       "      <td>Acklington</td>\n",
       "      <td>946</td>\n",
       "      <td>946</td>\n",
       "      <td>946</td>\n",
       "      <td>836</td>\n",
       "      <td>0.88</td>\n",
       "      <td>1.00</td>\n",
       "      <td>2011-01-28</td>\n",
       "      <td>10004C44pop_bull_jan_11.txt</td>\n",
       "    </tr>\n",
       "    <tr>\n",
       "      <th>1</th>\n",
       "      <td>Altcourse</td>\n",
       "      <td>794</td>\n",
       "      <td>794</td>\n",
       "      <td>1324</td>\n",
       "      <td>1173</td>\n",
       "      <td>1.48</td>\n",
       "      <td>1.00</td>\n",
       "      <td>2011-01-28</td>\n",
       "      <td>10004C44pop_bull_jan_11.txt</td>\n",
       "    </tr>\n",
       "    <tr>\n",
       "      <th>2</th>\n",
       "      <td>Ashfield</td>\n",
       "      <td>407</td>\n",
       "      <td>407</td>\n",
       "      <td>360</td>\n",
       "      <td>315</td>\n",
       "      <td>0.77</td>\n",
       "      <td>1.00</td>\n",
       "      <td>2011-01-28</td>\n",
       "      <td>10004C44pop_bull_jan_11.txt</td>\n",
       "    </tr>\n",
       "    <tr>\n",
       "      <th>3</th>\n",
       "      <td>Ashwell</td>\n",
       "      <td>599</td>\n",
       "      <td>184</td>\n",
       "      <td>214</td>\n",
       "      <td>159</td>\n",
       "      <td>0.86</td>\n",
       "      <td>0.31</td>\n",
       "      <td>2011-01-28</td>\n",
       "      <td>10004C44pop_bull_jan_11.txt</td>\n",
       "    </tr>\n",
       "    <tr>\n",
       "      <th>4</th>\n",
       "      <td>Askham Grange</td>\n",
       "      <td>150</td>\n",
       "      <td>126</td>\n",
       "      <td>128</td>\n",
       "      <td>128</td>\n",
       "      <td>1.02</td>\n",
       "      <td>0.84</td>\n",
       "      <td>2011-01-28</td>\n",
       "      <td>10004C44pop_bull_jan_11.txt</td>\n",
       "    </tr>\n",
       "  </tbody>\n",
       "</table>\n",
       "</div>"
      ],
      "text/plain": [
       "     prison_name  baseline_cna  in_use_cna  operational_capacity  population  \\\n",
       "0     Acklington           946         946                   946         836   \n",
       "1      Altcourse           794         794                  1324        1173   \n",
       "2       Ashfield           407         407                   360         315   \n",
       "3        Ashwell           599         184                   214         159   \n",
       "4  Askham Grange           150         126                   128         128   \n",
       "\n",
       "   perc_pop_to_used_cna  perc_acc_available       date  \\\n",
       "0                  0.88                1.00 2011-01-28   \n",
       "1                  1.48                1.00 2011-01-28   \n",
       "2                  0.77                1.00 2011-01-28   \n",
       "3                  0.86                0.31 2011-01-28   \n",
       "4                  1.02                0.84 2011-01-28   \n",
       "\n",
       "                        source  \n",
       "0  10004C44pop_bull_jan_11.txt  \n",
       "1  10004C44pop_bull_jan_11.txt  \n",
       "2  10004C44pop_bull_jan_11.txt  \n",
       "3  10004C44pop_bull_jan_11.txt  \n",
       "4  10004C44pop_bull_jan_11.txt  "
      ]
     },
     "execution_count": 6,
     "metadata": {},
     "output_type": "execute_result"
    }
   ],
   "source": [
    "df_final.head()"
   ]
  },
  {
   "cell_type": "code",
   "execution_count": 7,
   "metadata": {
    "collapsed": false
   },
   "outputs": [],
   "source": [
    "pd.options.display.max_rows = 300\n",
    "pd.options.display.max_columns = 300\n",
    "\n",
    "df_final.to_csv(\"all_pop_data_txt.csv\", index=False, encoding=\"utf-8\")"
   ]
  },
  {
   "cell_type": "code",
   "execution_count": null,
   "metadata": {
    "collapsed": false,
    "scrolled": false
   },
   "outputs": [],
   "source": []
  },
  {
   "cell_type": "code",
   "execution_count": null,
   "metadata": {
    "collapsed": true
   },
   "outputs": [],
   "source": []
  },
  {
   "cell_type": "code",
   "execution_count": null,
   "metadata": {
    "collapsed": true
   },
   "outputs": [],
   "source": []
  }
 ],
 "metadata": {
  "kernelspec": {
   "display_name": "Python 2",
   "language": "python",
   "name": "python2"
  },
  "language_info": {
   "codemirror_mode": {
    "name": "ipython",
    "version": 2
   },
   "file_extension": ".py",
   "mimetype": "text/x-python",
   "name": "python",
   "nbconvert_exporter": "python",
   "pygments_lexer": "ipython2",
   "version": "2.7.11"
  }
 },
 "nbformat": 4,
 "nbformat_minor": 0
}
