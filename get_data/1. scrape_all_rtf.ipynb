{
 "cells": [
  {
   "cell_type": "code",
   "execution_count": 1,
   "metadata": {
    "collapsed": true
   },
   "outputs": [],
   "source": [
    "url =\"https://www.gov.uk/government/uploads/system/uploads/attachment_data/file/523261/monthly-bulletin-16-04.rtf\""
   ]
  },
  {
   "cell_type": "code",
   "execution_count": 2,
   "metadata": {
    "collapsed": false
   },
   "outputs": [],
   "source": [
    "from bs4 import BeautifulSoup\n",
    "\n",
    "# For now just do all the rtf links\n",
    "url = \"https://www.gov.uk/government/statistics/prison-population-figures-2015\"\n",
    "\n",
    "import requests\n",
    "r = requests.get(url)\n",
    "soup = BeautifulSoup(r.content,\"lxml\")"
   ]
  },
  {
   "cell_type": "code",
   "execution_count": 3,
   "metadata": {
    "collapsed": false
   },
   "outputs": [],
   "source": [
    "s1 = set([(a.text, a[\"href\"]) for a in soup.findAll(\"a\") if \".rtf\" in a[\"href\"] and a.text != \"\"])"
   ]
  },
  {
   "cell_type": "code",
   "execution_count": 4,
   "metadata": {
    "collapsed": false
   },
   "outputs": [],
   "source": [
    "url = \"https://www.gov.uk/government/statistics/prison-population-figures-2016\"\n",
    "\n",
    "import requests\n",
    "r = requests.get(url)\n",
    "soup = BeautifulSoup(r.content,\"lxml\")\n",
    "s2 = set([(a.text, a[\"href\"]) for a in soup.findAll(\"a\") if \".rtf\" in a[\"href\"] and a.text != \"\"])"
   ]
  },
  {
   "cell_type": "code",
   "execution_count": 5,
   "metadata": {
    "collapsed": false
   },
   "outputs": [
    {
     "data": {
      "text/plain": [
       "u'\\xa9 Crown copyright'"
      ]
     },
     "execution_count": 5,
     "metadata": {},
     "output_type": "execute_result"
    }
   ],
   "source": [
    "a.text"
   ]
  },
  {
   "cell_type": "code",
   "execution_count": 6,
   "metadata": {
    "collapsed": false
   },
   "outputs": [
    {
     "data": {
      "text/plain": [
       "{(u'Population bulletin: monthly April 2015',\n",
       "  '/government/uploads/system/uploads/attachment_data/file/426306/prison-popualtion-april-2015.rtf'),\n",
       " (u'Population bulletin: monthly April 2016',\n",
       "  '/government/uploads/system/uploads/attachment_data/file/523261/monthly-bulletin-16-04.rtf'),\n",
       " (u'Population bulletin: monthly August 2015',\n",
       "  '/government/uploads/system/uploads/attachment_data/file/460246/prison-population-august-2015.rtf'),\n",
       " (u'Population bulletin: monthly December 2015',\n",
       "  '/government/uploads/system/uploads/attachment_data/file/490685/prison-population-figures-december-2015.rtf'),\n",
       " (u'Population bulletin: monthly February 2015',\n",
       "  '/government/uploads/system/uploads/attachment_data/file/412827/prison-population-figures-february-2015.rtf'),\n",
       " (u'Population bulletin: monthly February 2016',\n",
       "  '/government/uploads/system/uploads/attachment_data/file/507108/prison-population-february-2016.rtf'),\n",
       " (u'Population bulletin: monthly January 2015',\n",
       "  '/government/uploads/system/uploads/attachment_data/file/403757/prison-population-january-2015.rtf'),\n",
       " (u'Population bulletin: monthly January 2016',\n",
       "  '/government/uploads/system/uploads/attachment_data/file/500131/prison-population-january-2016.rtf'),\n",
       " (u'Population bulletin: monthly July 2015',\n",
       "  '/government/uploads/system/uploads/attachment_data/file/453776/prison-population-july-2015.rtf'),\n",
       " (u'Population bulletin: monthly June 2015',\n",
       "  '/government/uploads/system/uploads/attachment_data/file/444059/monthly-bulletin-june-2015.rtf'),\n",
       " (u'Population bulletin: monthly March 2016',\n",
       "  '/government/uploads/system/uploads/attachment_data/file/515385/monthly-bulletin-march.rtf'),\n",
       " (u'Population bulletin: monthly May 2015',\n",
       "  '/government/uploads/system/uploads/attachment_data/file/434816/prison-population-may-2015.rtf'),\n",
       " (u'Population bulletin: monthly May 2016',\n",
       "  '/government/uploads/system/uploads/attachment_data/file/528580/may-monthly-bulletin.rtf'),\n",
       " (u'Population bulletin: monthly November 2015',\n",
       "  '/government/uploads/system/uploads/attachment_data/file/484545/prison-population-november-2015.rtf'),\n",
       " (u'Population bulletin: monthly October 2015',\n",
       "  '/government/uploads/system/uploads/attachment_data/file/476807/prison-population-october-2015.rtf'),\n",
       " (u'Population bulletin: monthly September 2015',\n",
       "  '/government/uploads/system/uploads/attachment_data/file/467160/prison-population-figures-september2015.rtf')}"
      ]
     },
     "execution_count": 6,
     "metadata": {},
     "output_type": "execute_result"
    }
   ],
   "source": [
    "all_links = s1.union(s2)\n",
    "all_links"
   ]
  },
  {
   "cell_type": "code",
   "execution_count": 7,
   "metadata": {
    "collapsed": false
   },
   "outputs": [],
   "source": [
    "from pyth.plugins.rtf15.reader import Rtf15Reader\n",
    "from pyth.plugins.xhtml.writer import XHTMLWriter\n",
    "import pandas as pd\n",
    "import urllib2\n",
    "from cStringIO import StringIO\n",
    "\n",
    "import re"
   ]
  },
  {
   "cell_type": "code",
   "execution_count": 8,
   "metadata": {
    "collapsed": false
   },
   "outputs": [],
   "source": [
    "def get_table(doc):\n",
    "    final_data = []\n",
    "\n",
    "    header = False\n",
    "    for c in doc.content:\n",
    "        full_p = c.content.__repr__().lower()\n",
    "        if \"capacity\" in full_p and \"use cna\" in full_p:\n",
    "\n",
    "            header = True\n",
    "            continue\n",
    "\n",
    "        if header:\n",
    "            row= re.split(r\"\\t\", c.content[0].content[0])\n",
    "            if len(row) == 7 :\n",
    "                final_data.append(row)\n",
    "    df = pd.DataFrame(final_data, columns = [\"prison_name\",\"baseline_cna\", \"in_use_cna\", \"operational_capacity\", \"population\", \"perc_pop_to_used_cna\", \"perc_acc_available\"])\n",
    "    df.iloc[:,1:] = df.iloc[:,1:].replace(\"%\", \"\", regex=True).replace(\",\", \"\", regex=True)\n",
    "\n",
    "    for c in df.columns:\n",
    "        df[c]= pd.to_numeric(df[c], errors='ignore')\n",
    "    cols = [c for c in df.columns if \"perc\" in c]\n",
    "    df.loc[:,cols] = df.loc[:,cols]/100\n",
    "    return df"
   ]
  },
  {
   "cell_type": "code",
   "execution_count": 9,
   "metadata": {
    "collapsed": false
   },
   "outputs": [],
   "source": [
    "dfs = []\n",
    "for link in all_links:\n",
    "    text = link[0]\n",
    "    link = link[1]\n",
    "    rtf_file = urllib2.urlopen(\"http://www.gov.uk\" +link)\n",
    "    rtf_file = StringIO(rtf_file.read())\n",
    "    doc = Rtf15Reader.read(rtf_file)\n",
    "    df = get_table(doc)\n",
    "    df[\"month_text\"] = text\n",
    "    dfs.append(df)"
   ]
  },
  {
   "cell_type": "code",
   "execution_count": 10,
   "metadata": {
    "collapsed": false
   },
   "outputs": [],
   "source": [
    "final = pd.concat(dfs)"
   ]
  },
  {
   "cell_type": "code",
   "execution_count": 11,
   "metadata": {
    "collapsed": false
   },
   "outputs": [],
   "source": [
    "final[\"month_text\"] = final[\"month_text\"].replace(\"Population bulletin: monthly\", \"\", regex=True)"
   ]
  },
  {
   "cell_type": "code",
   "execution_count": 12,
   "metadata": {
    "collapsed": false
   },
   "outputs": [],
   "source": [
    "from dateutil import parser\n",
    "final[\"month\"] = final[\"month_text\"].apply(parser.parse)"
   ]
  },
  {
   "cell_type": "code",
   "execution_count": 14,
   "metadata": {
    "collapsed": false
   },
   "outputs": [],
   "source": [
    "final.to_csv(\"all_pop_data.csv\", index=False, encoding=\"utf-8\")"
   ]
  },
  {
   "cell_type": "code",
   "execution_count": null,
   "metadata": {
    "collapsed": false
   },
   "outputs": [],
   "source": [
    "\n"
   ]
  },
  {
   "cell_type": "code",
   "execution_count": null,
   "metadata": {
    "collapsed": true
   },
   "outputs": [],
   "source": []
  }
 ],
 "metadata": {
  "kernelspec": {
   "display_name": "Python 2",
   "language": "python",
   "name": "python2"
  },
  "language_info": {
   "codemirror_mode": {
    "name": "ipython",
    "version": 2
   },
   "file_extension": ".py",
   "mimetype": "text/x-python",
   "name": "python",
   "nbconvert_exporter": "python",
   "pygments_lexer": "ipython2",
   "version": "2.7.11"
  }
 },
 "nbformat": 4,
 "nbformat_minor": 0
}
