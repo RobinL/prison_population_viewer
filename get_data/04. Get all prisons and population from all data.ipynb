{
 "cells": [
  {
   "cell_type": "code",
   "execution_count": 1,
   "metadata": {
    "collapsed": true
   },
   "outputs": [],
   "source": [
    "import pandas as pd "
   ]
  },
  {
   "cell_type": "code",
   "execution_count": 2,
   "metadata": {
    "collapsed": false
   },
   "outputs": [],
   "source": [
    "dfs = []\n",
    "dfs.append(pd.read_csv(\"pop_data/all_pop_data_rtf.csv\"))\n",
    "dfs.append(pd.read_csv(\"pop_data/all_pop_data_txt.csv\"))"
   ]
  },
  {
   "cell_type": "code",
   "execution_count": 3,
   "metadata": {
    "collapsed": false
   },
   "outputs": [
    {
     "data": {
      "text/html": [
       "<div>\n",
       "<table border=\"1\" class=\"dataframe\">\n",
       "  <thead>\n",
       "    <tr style=\"text-align: right;\">\n",
       "      <th></th>\n",
       "      <th>prison_name</th>\n",
       "      <th>baseline_cna</th>\n",
       "      <th>in_use_cna</th>\n",
       "      <th>operational_capacity</th>\n",
       "      <th>population</th>\n",
       "      <th>perc_pop_to_used_cna</th>\n",
       "      <th>perc_acc_available</th>\n",
       "      <th>date</th>\n",
       "      <th>source</th>\n",
       "      <th>prison_name_original</th>\n",
       "      <th>prison_name_group</th>\n",
       "    </tr>\n",
       "  </thead>\n",
       "  <tbody>\n",
       "    <tr>\n",
       "      <th>0</th>\n",
       "      <td>Altcourse</td>\n",
       "      <td>794</td>\n",
       "      <td>794</td>\n",
       "      <td>1133</td>\n",
       "      <td>1113</td>\n",
       "      <td>1.4</td>\n",
       "      <td>1</td>\n",
       "      <td>2015-02-27</td>\n",
       "      <td>http://www.gov.uk/government/uploads/system/up...</td>\n",
       "      <td>Altcourse</td>\n",
       "      <td>Altcourse</td>\n",
       "    </tr>\n",
       "  </tbody>\n",
       "</table>\n",
       "</div>"
      ],
      "text/plain": [
       "  prison_name  baseline_cna  in_use_cna  operational_capacity  population  \\\n",
       "0   Altcourse           794         794                  1133        1113   \n",
       "\n",
       "   perc_pop_to_used_cna  perc_acc_available        date  \\\n",
       "0                   1.4                   1  2015-02-27   \n",
       "\n",
       "                                              source prison_name_original  \\\n",
       "0  http://www.gov.uk/government/uploads/system/up...            Altcourse   \n",
       "\n",
       "  prison_name_group  \n",
       "0         Altcourse  "
      ]
     },
     "execution_count": 3,
     "metadata": {},
     "output_type": "execute_result"
    }
   ],
   "source": [
    "all_data = pd.concat(dfs)\n",
    "pgs = pd.read_csv(\"old_csv_data/prison_groups_lookup_and_manual_classification.csv\")\n",
    "pgs = pgs.fillna(0)\n",
    "all_data = all_data.merge(pgs[[\"prison_name_original\",\"prison_name_group\"]], left_on=\"prison_name\", right_on=\"prison_name_original\", how=\"left\")\n",
    "all_data = all_data.fillna(0)\n",
    "all_data.head(1)"
   ]
  },
  {
   "cell_type": "code",
   "execution_count": 4,
   "metadata": {
    "collapsed": false
   },
   "outputs": [
    {
     "data": {
      "text/html": [
       "<div>\n",
       "<table border=\"1\" class=\"dataframe\">\n",
       "  <thead>\n",
       "    <tr style=\"text-align: right;\">\n",
       "      <th></th>\n",
       "      <th>baseline_cna</th>\n",
       "      <th>in_use_cna</th>\n",
       "      <th>operational_capacity</th>\n",
       "      <th>population</th>\n",
       "      <th>perc_pop_to_used_cna</th>\n",
       "      <th>perc_acc_available</th>\n",
       "      <th>date</th>\n",
       "      <th>source</th>\n",
       "      <th>prison_name_group</th>\n",
       "    </tr>\n",
       "  </thead>\n",
       "  <tbody>\n",
       "    <tr>\n",
       "      <th>0</th>\n",
       "      <td>794</td>\n",
       "      <td>794</td>\n",
       "      <td>1133</td>\n",
       "      <td>1113</td>\n",
       "      <td>1.40</td>\n",
       "      <td>1</td>\n",
       "      <td>2015-02-27</td>\n",
       "      <td>http://www.gov.uk/government/uploads/system/up...</td>\n",
       "      <td>Altcourse</td>\n",
       "    </tr>\n",
       "    <tr>\n",
       "      <th>1</th>\n",
       "      <td>408</td>\n",
       "      <td>408</td>\n",
       "      <td>400</td>\n",
       "      <td>391</td>\n",
       "      <td>0.96</td>\n",
       "      <td>1</td>\n",
       "      <td>2015-02-27</td>\n",
       "      <td>http://www.gov.uk/government/uploads/system/up...</td>\n",
       "      <td>Ashfield</td>\n",
       "    </tr>\n",
       "  </tbody>\n",
       "</table>\n",
       "</div>"
      ],
      "text/plain": [
       "   baseline_cna  in_use_cna  operational_capacity  population  \\\n",
       "0           794         794                  1133        1113   \n",
       "1           408         408                   400         391   \n",
       "\n",
       "   perc_pop_to_used_cna  perc_acc_available        date  \\\n",
       "0                  1.40                   1  2015-02-27   \n",
       "1                  0.96                   1  2015-02-27   \n",
       "\n",
       "                                              source prison_name_group  \n",
       "0  http://www.gov.uk/government/uploads/system/up...         Altcourse  \n",
       "1  http://www.gov.uk/government/uploads/system/up...          Ashfield  "
      ]
     },
     "execution_count": 4,
     "metadata": {},
     "output_type": "execute_result"
    }
   ],
   "source": [
    "all_data = all_data.drop([\"prison_name\", \"prison_name_original\"], axis=1)\n",
    "all_data.head(2)"
   ]
  },
  {
   "cell_type": "code",
   "execution_count": 5,
   "metadata": {
    "collapsed": false
   },
   "outputs": [],
   "source": [
    "all_data  = all_data.pivot_table(index=[\"prison_name_group\", \"source\", \"date\"], aggfunc=\"sum\", values = [\"operational_capacity\", \"baseline_cna\", \"in_use_cna\",\"population\"]).reset_index()"
   ]
  },
  {
   "cell_type": "code",
   "execution_count": 6,
   "metadata": {
    "collapsed": false
   },
   "outputs": [],
   "source": [
    "prisons = pd.read_csv(\"old_csv_data/all_prison_data_final_manual.csv\")\n",
    "prisons[\"lat\"]= prisons[\"lat\"].fillna(prisons[\"lat_manual\"])\n",
    "prisons[\"lng\"]= prisons[\"lng\"].fillna(prisons[\"lng_manual\"])"
   ]
  },
  {
   "cell_type": "code",
   "execution_count": 7,
   "metadata": {
    "collapsed": false
   },
   "outputs": [],
   "source": [
    "prisons = prisons[[\"moj_prison_name\", \"lat\", \"lng\", \"nomis_id\"]]"
   ]
  },
  {
   "cell_type": "code",
   "execution_count": 8,
   "metadata": {
    "collapsed": false
   },
   "outputs": [
    {
     "data": {
      "text/html": [
       "<div>\n",
       "<table border=\"1\" class=\"dataframe\">\n",
       "  <thead>\n",
       "    <tr style=\"text-align: right;\">\n",
       "      <th></th>\n",
       "      <th>prison_name_group</th>\n",
       "      <th>source</th>\n",
       "      <th>date</th>\n",
       "      <th>baseline_cna</th>\n",
       "      <th>in_use_cna</th>\n",
       "      <th>operational_capacity</th>\n",
       "      <th>population</th>\n",
       "      <th>moj_prison_name</th>\n",
       "      <th>lat</th>\n",
       "      <th>lng</th>\n",
       "      <th>nomis_id</th>\n",
       "    </tr>\n",
       "  </thead>\n",
       "  <tbody>\n",
       "    <tr>\n",
       "      <th>0</th>\n",
       "      <td>Acklington</td>\n",
       "      <td>10004C44pop_bull_jan_11.txt</td>\n",
       "      <td>2011-01-28</td>\n",
       "      <td>946</td>\n",
       "      <td>946</td>\n",
       "      <td>946</td>\n",
       "      <td>836</td>\n",
       "      <td>Acklington</td>\n",
       "      <td>55.296464</td>\n",
       "      <td>-1.632415</td>\n",
       "      <td>AKI</td>\n",
       "    </tr>\n",
       "    <tr>\n",
       "      <th>1</th>\n",
       "      <td>Acklington</td>\n",
       "      <td>10004C6Apop_bull_feb_11.txt</td>\n",
       "      <td>2011-02-25</td>\n",
       "      <td>946</td>\n",
       "      <td>946</td>\n",
       "      <td>946</td>\n",
       "      <td>820</td>\n",
       "      <td>Acklington</td>\n",
       "      <td>55.296464</td>\n",
       "      <td>-1.632415</td>\n",
       "      <td>AKI</td>\n",
       "    </tr>\n",
       "    <tr>\n",
       "      <th>2</th>\n",
       "      <td>Acklington</td>\n",
       "      <td>prison-population-bulletin-july-2011.txt</td>\n",
       "      <td>2011-07-29</td>\n",
       "      <td>946</td>\n",
       "      <td>890</td>\n",
       "      <td>890</td>\n",
       "      <td>826</td>\n",
       "      <td>Acklington</td>\n",
       "      <td>55.296464</td>\n",
       "      <td>-1.632415</td>\n",
       "      <td>AKI</td>\n",
       "    </tr>\n",
       "    <tr>\n",
       "      <th>3</th>\n",
       "      <td>Acklington</td>\n",
       "      <td>prison-population-bulletin-june.txt</td>\n",
       "      <td>2011-06-24</td>\n",
       "      <td>946</td>\n",
       "      <td>890</td>\n",
       "      <td>890</td>\n",
       "      <td>831</td>\n",
       "      <td>Acklington</td>\n",
       "      <td>55.296464</td>\n",
       "      <td>-1.632415</td>\n",
       "      <td>AKI</td>\n",
       "    </tr>\n",
       "    <tr>\n",
       "      <th>4</th>\n",
       "      <td>Acklington</td>\n",
       "      <td>prison-population-bulletin-march-2011.txt</td>\n",
       "      <td>2011-03-25</td>\n",
       "      <td>946</td>\n",
       "      <td>890</td>\n",
       "      <td>890</td>\n",
       "      <td>819</td>\n",
       "      <td>Acklington</td>\n",
       "      <td>55.296464</td>\n",
       "      <td>-1.632415</td>\n",
       "      <td>AKI</td>\n",
       "    </tr>\n",
       "  </tbody>\n",
       "</table>\n",
       "</div>"
      ],
      "text/plain": [
       "  prison_name_group                                     source        date  \\\n",
       "0        Acklington                10004C44pop_bull_jan_11.txt  2011-01-28   \n",
       "1        Acklington                10004C6Apop_bull_feb_11.txt  2011-02-25   \n",
       "2        Acklington   prison-population-bulletin-july-2011.txt  2011-07-29   \n",
       "3        Acklington        prison-population-bulletin-june.txt  2011-06-24   \n",
       "4        Acklington  prison-population-bulletin-march-2011.txt  2011-03-25   \n",
       "\n",
       "   baseline_cna  in_use_cna  operational_capacity  population moj_prison_name  \\\n",
       "0           946         946                   946         836      Acklington   \n",
       "1           946         946                   946         820      Acklington   \n",
       "2           946         890                   890         826      Acklington   \n",
       "3           946         890                   890         831      Acklington   \n",
       "4           946         890                   890         819      Acklington   \n",
       "\n",
       "         lat       lng nomis_id  \n",
       "0  55.296464 -1.632415      AKI  \n",
       "1  55.296464 -1.632415      AKI  \n",
       "2  55.296464 -1.632415      AKI  \n",
       "3  55.296464 -1.632415      AKI  \n",
       "4  55.296464 -1.632415      AKI  "
      ]
     },
     "execution_count": 8,
     "metadata": {},
     "output_type": "execute_result"
    }
   ],
   "source": [
    "final_pop_data = all_data.merge(prisons, left_on=\"prison_name_group\", right_on=\"moj_prison_name\")\n",
    "final_pop_data.head()"
   ]
  },
  {
   "cell_type": "code",
   "execution_count": 9,
   "metadata": {
    "collapsed": true
   },
   "outputs": [],
   "source": [
    "final_pop_data[\"perc_pop_to_used_cna\"] = final_pop_data[\"population\"]*1.0/final_pop_data[\"in_use_cna\"]*1.0\n",
    "final_pop_data[\"perc_acc_available\"] = final_pop_data[\"in_use_cna\"]*1.0/final_pop_data[\"baseline_cna\"]*1.0"
   ]
  },
  {
   "cell_type": "code",
   "execution_count": 10,
   "metadata": {
    "collapsed": false
   },
   "outputs": [],
   "source": [
    "# join on meta data\n",
    "metas = pgs.drop_duplicates(\"prison_name_group\")\n",
    "metas = metas.drop([\"prison_name_original\", \"prison_meta_info_source\", \"closed\", \"done\"], axis=1)\n",
    "final_pop_data = final_pop_data.merge(metas, left_on = \"prison_name_group\", right_on=\"prison_name_group\", how=\"left\")"
   ]
  },
  {
   "cell_type": "code",
   "execution_count": 11,
   "metadata": {
    "collapsed": false
   },
   "outputs": [
    {
     "name": "stderr",
     "output_type": "stream",
     "text": [
      "/Users/robinlinacre/anaconda/lib/python2.7/site-packages/ipykernel/__main__.py:1: FutureWarning: sort(columns=....) is deprecated, use sort_values(by=.....)\n",
      "  if __name__ == '__main__':\n"
     ]
    },
    {
     "data": {
      "text/html": [
       "<div>\n",
       "<table border=\"1\" class=\"dataframe\">\n",
       "  <thead>\n",
       "    <tr style=\"text-align: right;\">\n",
       "      <th></th>\n",
       "      <th>source</th>\n",
       "      <th>date</th>\n",
       "      <th>baseline_cna</th>\n",
       "      <th>in_use_cna</th>\n",
       "      <th>operational_capacity</th>\n",
       "      <th>population</th>\n",
       "      <th>moj_prison_name</th>\n",
       "      <th>lat</th>\n",
       "      <th>lng</th>\n",
       "      <th>nomis_id</th>\n",
       "      <th>...</th>\n",
       "      <th>cat_d</th>\n",
       "      <th>open</th>\n",
       "      <th>male</th>\n",
       "      <th>youth</th>\n",
       "      <th>adult</th>\n",
       "      <th>local</th>\n",
       "      <th>high_security</th>\n",
       "      <th>sex_offender</th>\n",
       "      <th>operator</th>\n",
       "      <th>opened</th>\n",
       "    </tr>\n",
       "  </thead>\n",
       "  <tbody>\n",
       "    <tr>\n",
       "      <th>0</th>\n",
       "      <td>10004C44pop_bull_jan_11.txt</td>\n",
       "      <td>2011-01-28</td>\n",
       "      <td>946</td>\n",
       "      <td>946</td>\n",
       "      <td>946</td>\n",
       "      <td>836</td>\n",
       "      <td>Acklington</td>\n",
       "      <td>55.296464</td>\n",
       "      <td>-1.632415</td>\n",
       "      <td>AKI</td>\n",
       "      <td>...</td>\n",
       "      <td>0</td>\n",
       "      <td>0</td>\n",
       "      <td>1</td>\n",
       "      <td>0</td>\n",
       "      <td>1</td>\n",
       "      <td>0</td>\n",
       "      <td>0</td>\n",
       "      <td>0</td>\n",
       "      <td>HMPS</td>\n",
       "      <td>1972</td>\n",
       "    </tr>\n",
       "    <tr>\n",
       "      <th>1</th>\n",
       "      <td>10004C6Apop_bull_feb_11.txt</td>\n",
       "      <td>2011-02-25</td>\n",
       "      <td>946</td>\n",
       "      <td>946</td>\n",
       "      <td>946</td>\n",
       "      <td>820</td>\n",
       "      <td>Acklington</td>\n",
       "      <td>55.296464</td>\n",
       "      <td>-1.632415</td>\n",
       "      <td>AKI</td>\n",
       "      <td>...</td>\n",
       "      <td>0</td>\n",
       "      <td>0</td>\n",
       "      <td>1</td>\n",
       "      <td>0</td>\n",
       "      <td>1</td>\n",
       "      <td>0</td>\n",
       "      <td>0</td>\n",
       "      <td>0</td>\n",
       "      <td>HMPS</td>\n",
       "      <td>1972</td>\n",
       "    </tr>\n",
       "    <tr>\n",
       "      <th>4</th>\n",
       "      <td>prison-population-bulletin-march-2011.txt</td>\n",
       "      <td>2011-03-25</td>\n",
       "      <td>946</td>\n",
       "      <td>890</td>\n",
       "      <td>890</td>\n",
       "      <td>819</td>\n",
       "      <td>Acklington</td>\n",
       "      <td>55.296464</td>\n",
       "      <td>-1.632415</td>\n",
       "      <td>AKI</td>\n",
       "      <td>...</td>\n",
       "      <td>0</td>\n",
       "      <td>0</td>\n",
       "      <td>1</td>\n",
       "      <td>0</td>\n",
       "      <td>1</td>\n",
       "      <td>0</td>\n",
       "      <td>0</td>\n",
       "      <td>0</td>\n",
       "      <td>HMPS</td>\n",
       "      <td>1972</td>\n",
       "    </tr>\n",
       "    <tr>\n",
       "      <th>6</th>\n",
       "      <td>prison-population-monthly-bulletin-april2011.txt</td>\n",
       "      <td>2011-04-15</td>\n",
       "      <td>946</td>\n",
       "      <td>890</td>\n",
       "      <td>890</td>\n",
       "      <td>851</td>\n",
       "      <td>Acklington</td>\n",
       "      <td>55.296464</td>\n",
       "      <td>-1.632415</td>\n",
       "      <td>AKI</td>\n",
       "      <td>...</td>\n",
       "      <td>0</td>\n",
       "      <td>0</td>\n",
       "      <td>1</td>\n",
       "      <td>0</td>\n",
       "      <td>1</td>\n",
       "      <td>0</td>\n",
       "      <td>0</td>\n",
       "      <td>0</td>\n",
       "      <td>HMPS</td>\n",
       "      <td>1972</td>\n",
       "    </tr>\n",
       "    <tr>\n",
       "      <th>5</th>\n",
       "      <td>prison-population-bulletin-may-2011.txt</td>\n",
       "      <td>2011-05-27</td>\n",
       "      <td>946</td>\n",
       "      <td>890</td>\n",
       "      <td>890</td>\n",
       "      <td>841</td>\n",
       "      <td>Acklington</td>\n",
       "      <td>55.296464</td>\n",
       "      <td>-1.632415</td>\n",
       "      <td>AKI</td>\n",
       "      <td>...</td>\n",
       "      <td>0</td>\n",
       "      <td>0</td>\n",
       "      <td>1</td>\n",
       "      <td>0</td>\n",
       "      <td>1</td>\n",
       "      <td>0</td>\n",
       "      <td>0</td>\n",
       "      <td>0</td>\n",
       "      <td>HMPS</td>\n",
       "      <td>1972</td>\n",
       "    </tr>\n",
       "  </tbody>\n",
       "</table>\n",
       "<p>5 rows × 25 columns</p>\n",
       "</div>"
      ],
      "text/plain": [
       "                                             source        date  baseline_cna  \\\n",
       "0                       10004C44pop_bull_jan_11.txt  2011-01-28           946   \n",
       "1                       10004C6Apop_bull_feb_11.txt  2011-02-25           946   \n",
       "4         prison-population-bulletin-march-2011.txt  2011-03-25           946   \n",
       "6  prison-population-monthly-bulletin-april2011.txt  2011-04-15           946   \n",
       "5           prison-population-bulletin-may-2011.txt  2011-05-27           946   \n",
       "\n",
       "   in_use_cna  operational_capacity  population moj_prison_name        lat  \\\n",
       "0         946                   946         836      Acklington  55.296464   \n",
       "1         946                   946         820      Acklington  55.296464   \n",
       "4         890                   890         819      Acklington  55.296464   \n",
       "6         890                   890         851      Acklington  55.296464   \n",
       "5         890                   890         841      Acklington  55.296464   \n",
       "\n",
       "        lng nomis_id   ...    cat_d  open  male  youth  adult  local  \\\n",
       "0 -1.632415      AKI   ...        0     0     1      0      1      0   \n",
       "1 -1.632415      AKI   ...        0     0     1      0      1      0   \n",
       "4 -1.632415      AKI   ...        0     0     1      0      1      0   \n",
       "6 -1.632415      AKI   ...        0     0     1      0      1      0   \n",
       "5 -1.632415      AKI   ...        0     0     1      0      1      0   \n",
       "\n",
       "   high_security  sex_offender  operator  opened  \n",
       "0              0             0      HMPS    1972  \n",
       "1              0             0      HMPS    1972  \n",
       "4              0             0      HMPS    1972  \n",
       "6              0             0      HMPS    1972  \n",
       "5              0             0      HMPS    1972  \n",
       "\n",
       "[5 rows x 25 columns]"
      ]
     },
     "execution_count": 11,
     "metadata": {},
     "output_type": "execute_result"
    }
   ],
   "source": [
    "final_pop_data = final_pop_data.sort([\"moj_prison_name\", \"date\"])\n",
    "final_pop_data = final_pop_data.drop(\"prison_name_group\", axis=1)\n",
    "final_pop_data.to_csv(\"final_full_time_series.csv\", index=False)\n",
    "final_pop_data.head()"
   ]
  },
  {
   "cell_type": "code",
   "execution_count": null,
   "metadata": {
    "collapsed": false
   },
   "outputs": [],
   "source": []
  },
  {
   "cell_type": "code",
   "execution_count": null,
   "metadata": {
    "collapsed": true
   },
   "outputs": [],
   "source": []
  },
  {
   "cell_type": "code",
   "execution_count": null,
   "metadata": {
    "collapsed": true
   },
   "outputs": [],
   "source": []
  },
  {
   "cell_type": "code",
   "execution_count": null,
   "metadata": {
    "collapsed": true
   },
   "outputs": [],
   "source": []
  },
  {
   "cell_type": "code",
   "execution_count": null,
   "metadata": {
    "collapsed": true
   },
   "outputs": [],
   "source": []
  },
  {
   "cell_type": "code",
   "execution_count": null,
   "metadata": {
    "collapsed": true
   },
   "outputs": [],
   "source": []
  }
 ],
 "metadata": {
  "kernelspec": {
   "display_name": "Python 2",
   "language": "python",
   "name": "python2"
  },
  "language_info": {
   "codemirror_mode": {
    "name": "ipython",
    "version": 2
   },
   "file_extension": ".py",
   "mimetype": "text/x-python",
   "name": "python",
   "nbconvert_exporter": "python",
   "pygments_lexer": "ipython2",
   "version": "2.7.11"
  }
 },
 "nbformat": 4,
 "nbformat_minor": 0
}
