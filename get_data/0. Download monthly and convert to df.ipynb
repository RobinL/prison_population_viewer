{
 "cells": [
  {
   "cell_type": "code",
   "execution_count": 5,
   "metadata": {
    "collapsed": true
   },
   "outputs": [],
   "source": [
    "import pandas as pd\n",
    "import re"
   ]
  },
  {
   "cell_type": "code",
   "execution_count": 6,
   "metadata": {
    "collapsed": true
   },
   "outputs": [],
   "source": [
    "url = \"https://www.gov.uk/government/uploads/system/uploads/attachment_data/file/523261/monthly-bulletin-16-04.rtf\""
   ]
  },
  {
   "cell_type": "code",
   "execution_count": 7,
   "metadata": {
    "collapsed": false
   },
   "outputs": [],
   "source": [
    "from pyth.plugins.rtf15.reader import Rtf15Reader\n",
    "from pyth.plugins.xhtml.writer import XHTMLWriter\n",
    "\n",
    "import urllib2\n",
    "from cStringIO import StringIO\n",
    "\n",
    "rtf_file = urllib2.urlopen(url)\n",
    "rtf_file = StringIO(rtf_file.read())\n",
    "doc = Rtf15Reader.read(rtf_file)"
   ]
  },
  {
   "cell_type": "code",
   "execution_count": 8,
   "metadata": {
    "collapsed": false
   },
   "outputs": [],
   "source": [
    "final_data = []\n",
    "\n",
    "header = False\n",
    "for c in doc.content:\n",
    "    full_p = c.content.__repr__().lower()\n",
    "    if \"capacity\" in full_p and \"use cna\" in full_p:\n",
    "        \n",
    "        header = True\n",
    "        continue\n",
    "        \n",
    "    if header:\n",
    "        row= re.split(r\"\\t\", c.content[0].content[0])\n",
    "        if len(row) == 7 :\n",
    "            final_data.append(row)"
   ]
  },
  {
   "cell_type": "code",
   "execution_count": 9,
   "metadata": {
    "collapsed": false
   },
   "outputs": [],
   "source": [
    "df = pd.DataFrame(final_data, columns = [\"prison_name\",\"baseline_cna\", \"in_use_cna\", \"operational_capacity\", \"population\", \"perc_pop_to_used_cna\", \"perc_acc_available\"])"
   ]
  },
  {
   "cell_type": "code",
   "execution_count": 10,
   "metadata": {
    "collapsed": false
   },
   "outputs": [],
   "source": [
    "df.iloc[:,1:] = df.iloc[:,1:].replace(\"%\", \"\", regex=True).replace(\",\", \"\", regex=True)"
   ]
  },
  {
   "cell_type": "code",
   "execution_count": 11,
   "metadata": {
    "collapsed": false
   },
   "outputs": [],
   "source": [
    "for c in df.columns:\n",
    "    df[c]= pd.to_numeric(df[c], errors='ignore')\n",
    "\n",
    "cols = [c for c in df.columns if \"perc\" in c]\n",
    "df.loc[:,cols] = df.loc[:,cols]/100"
   ]
  },
  {
   "cell_type": "code",
   "execution_count": 12,
   "metadata": {
    "collapsed": false
   },
   "outputs": [],
   "source": [
    "df.to_csv(\"monthly.csv\", index=False)"
   ]
  },
  {
   "cell_type": "code",
   "execution_count": null,
   "metadata": {
    "collapsed": false
   },
   "outputs": [],
   "source": []
  },
  {
   "cell_type": "code",
   "execution_count": null,
   "metadata": {
    "collapsed": true
   },
   "outputs": [],
   "source": []
  }
 ],
 "metadata": {
  "kernelspec": {
   "display_name": "Python 2",
   "language": "python",
   "name": "python2"
  },
  "language_info": {
   "codemirror_mode": {
    "name": "ipython",
    "version": 2
   },
   "file_extension": ".py",
   "mimetype": "text/x-python",
   "name": "python",
   "nbconvert_exporter": "python",
   "pygments_lexer": "ipython2",
   "version": "2.7.11"
  }
 },
 "nbformat": 4,
 "nbformat_minor": 0
}
