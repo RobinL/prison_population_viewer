{
 "cells": [
  {
   "cell_type": "code",
   "execution_count": 2,
   "metadata": {
    "collapsed": false
   },
   "outputs": [],
   "source": [
    "from bs4 import BeautifulSoup\n",
    "import requests\n",
    "from pyth.plugins.rtf15.reader import Rtf15Reader\n",
    "from pyth.plugins.xhtml.writer import XHTMLWriter\n",
    "import pandas as pd\n",
    "import urllib2\n",
    "from cStringIO import StringIO\n",
    "\n",
    "import re\n",
    "\n",
    "\n",
    "# For now just do all the rtf links\n",
    "url = \"https://www.gov.uk/government/statistics/prison-population-figures-2015\"\n",
    "r = requests.get(url)\n",
    "soup = BeautifulSoup(r.content,\"lxml\")\n",
    "s1 = set([(a.text, a[\"href\"]) for a in soup.findAll(\"a\") if \".rtf\" in a[\"href\"] and a.text != \"\"])"
   ]
  },
  {
   "cell_type": "code",
   "execution_count": 3,
   "metadata": {
    "collapsed": false
   },
   "outputs": [],
   "source": [
    "url = \"https://www.gov.uk/government/statistics/prison-population-figures-2016\"\n",
    "\n",
    "import requests\n",
    "r = requests.get(url)\n",
    "soup = BeautifulSoup(r.content,\"lxml\")\n",
    "s2 = set([(a.text, a[\"href\"]) for a in soup.findAll(\"a\") if \".rtf\" in a[\"href\"] and a.text != \"\"])"
   ]
  },
  {
   "cell_type": "code",
   "execution_count": 4,
   "metadata": {
    "collapsed": false
   },
   "outputs": [],
   "source": [
    "all_links = s1.union(s2)"
   ]
  },
  {
   "cell_type": "code",
   "execution_count": 5,
   "metadata": {
    "collapsed": false
   },
   "outputs": [],
   "source": [
    "def get_table(doc, source):\n",
    "    final_data = []\n",
    "\n",
    "    header = False\n",
    "    for c in doc.content:\n",
    "        full_p = c.content.__repr__().lower()\n",
    "        if \"capacity\" in full_p and \"use cna\" in full_p:\n",
    "\n",
    "            header = True\n",
    "            continue\n",
    "\n",
    "        if header:\n",
    "            row= re.split(r\"\\t\", c.content[0].content[0])\n",
    "            if len(row) == 7 :\n",
    "                final_data.append(row)\n",
    "    df = pd.DataFrame(final_data, columns = [\"prison_name\",\"baseline_cna\", \"in_use_cna\", \"operational_capacity\", \"population\", \"perc_pop_to_used_cna\", \"perc_acc_available\"])\n",
    "    df.iloc[:,1:] = df.iloc[:,1:].replace(\"%\", \"\", regex=True).replace(\",\", \"\", regex=True)\n",
    "\n",
    "    for c in df.columns:\n",
    "        df[c]= pd.to_numeric(df[c], errors='ignore')\n",
    "    cols = [c for c in df.columns if \"perc\" in c]\n",
    "    df.loc[:,cols] = df.loc[:,cols]/100\n",
    "    \n",
    "    all_text =  \"\\n\".join([p.content[0].content[0] for p in doc.content])\n",
    "    \n",
    "    #Parse out the date here\n",
    "    re_pattern = r\"(\\d{2}/\\d{2}/\\d{4})\"\n",
    "    \n",
    "\n",
    "    date = re.search(re_pattern, all_text).group(1)   \n",
    "    df[\"date\"] = date\n",
    "    df[\"source\"] = source\n",
    "    \n",
    "    \n",
    "    return df"
   ]
  },
  {
   "cell_type": "code",
   "execution_count": 7,
   "metadata": {
    "collapsed": false
   },
   "outputs": [],
   "source": [
    "dfs = []\n",
    "for link in all_links:\n",
    "    text = link[0]\n",
    "    link = link[1]\n",
    "    rtf_file = urllib2.urlopen(\"http://www.gov.uk\" +link)\n",
    "    rtf_file = StringIO(rtf_file.read())\n",
    "    doc = Rtf15Reader.read(rtf_file)\n",
    "    df = get_table(doc, \"http://www.gov.uk\" +link)\n",
    "    dfs.append(df)\n",
    "    "
   ]
  },
  {
   "cell_type": "code",
   "execution_count": 15,
   "metadata": {
    "collapsed": false
   },
   "outputs": [],
   "source": [
    "import urllib2\n",
    "import os\n",
    "for l in all_links:\n",
    "    url = \"https://www.gov.uk\" + l[1]\n",
    "    head, tail = os.path.split(url)\n",
    "    my_file = urllib2.urlopen(url)\n",
    "    \n",
    "    with open(\"all_rtf/\" + tail,'wb') as output:\n",
    "      output.write(my_file.read())"
   ]
  },
  {
   "cell_type": "code",
   "execution_count": 10,
   "metadata": {
    "collapsed": false
   },
   "outputs": [],
   "source": [
    "final = pd.concat(dfs)\n",
    "final[\"date\"] = pd.to_datetime(final[\"date\"],infer_datetime_format=True)"
   ]
  },
  {
   "cell_type": "code",
   "execution_count": null,
   "metadata": {
    "collapsed": false
   },
   "outputs": [],
   "source": []
  },
  {
   "cell_type": "code",
   "execution_count": null,
   "metadata": {
    "collapsed": false
   },
   "outputs": [],
   "source": []
  },
  {
   "cell_type": "code",
   "execution_count": 12,
   "metadata": {
    "collapsed": false
   },
   "outputs": [],
   "source": [
    "final.to_csv(\"all_pop_data_rtf.csv\", index=False, encoding=\"utf-8\")"
   ]
  },
  {
   "cell_type": "code",
   "execution_count": null,
   "metadata": {
    "collapsed": false
   },
   "outputs": [],
   "source": [
    "\n"
   ]
  },
  {
   "cell_type": "code",
   "execution_count": null,
   "metadata": {
    "collapsed": true
   },
   "outputs": [],
   "source": []
  }
 ],
 "metadata": {
  "kernelspec": {
   "display_name": "Python 2",
   "language": "python",
   "name": "python2"
  },
  "language_info": {
   "codemirror_mode": {
    "name": "ipython",
    "version": 2
   },
   "file_extension": ".py",
   "mimetype": "text/x-python",
   "name": "python",
   "nbconvert_exporter": "python",
   "pygments_lexer": "ipython2",
   "version": "2.7.11"
  }
 },
 "nbformat": 4,
 "nbformat_minor": 0
}
