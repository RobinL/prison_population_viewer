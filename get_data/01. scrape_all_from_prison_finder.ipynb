{
 "cells": [
  {
   "cell_type": "code",
   "execution_count": null,
   "metadata": {
    "collapsed": false
   },
   "outputs": [],
   "source": [
    "from bs4 import BeautifulSoup\n",
    "import requests\n",
    "from pyth.plugins.rtf15.reader import Rtf15Reader\n",
    "from pyth.plugins.xhtml.writer import XHTMLWriter\n",
    "import pandas as pd\n",
    "import urllib2\n",
    "from cStringIO import StringIO\n",
    "\n",
    "import re\n",
    "\n",
    "# For now just do all the rtf links\n",
    "url_temp = \"http://www.justice.gov.uk/contacts/prison-finder/prisonfinder-a-z?result_33549_result_page={}\""
   ]
  },
  {
   "cell_type": "code",
   "execution_count": null,
   "metadata": {
    "collapsed": false
   },
   "outputs": [],
   "source": [
    "tail"
   ]
  },
  {
   "cell_type": "code",
   "execution_count": null,
   "metadata": {
    "collapsed": false
   },
   "outputs": [],
   "source": [
    "import string\n",
    "import requests\n",
    "import urllib2\n",
    "import os\n",
    "\n",
    "urls = []\n",
    "for i in string.ascii_uppercase:\n",
    "    url = url_temp.format(i)\n",
    "\n",
    "\n",
    "    import requests\n",
    "    r = requests.get(url)\n",
    "    soup = BeautifulSoup(r.content,\"lxml\")\n",
    "    all_links = soup.find(\"div\", class_=\"article\").findAll(\"ul\")[1:]\n",
    "    all_hrefs = [h.find(\"a\")[\"href\"] for h in all_links]\n",
    "    for link in all_hrefs:\n",
    "        #get prison name here\n",
    "        print link\n",
    "        head, tail = os.path.split(link)\n",
    "        my_file = urllib2.urlopen(link)\n",
    "        with open(\"all_prison_finder_html/\" + tail + \".html\",'wb') as output:\n",
    "            output.write(my_file.read())"
   ]
  },
  {
   "cell_type": "code",
   "execution_count": null,
   "metadata": {
    "collapsed": false
   },
   "outputs": [],
   "source": []
  },
  {
   "cell_type": "code",
   "execution_count": null,
   "metadata": {
    "collapsed": false
   },
   "outputs": [],
   "source": [
    "all_links = soup.find(\"div\", class_=\"article\").findAll(\"ul\")[1:]\n",
    "all_hrefs = [h.find(\"a\")[\"href\"] for h in all_links]"
   ]
  },
  {
   "cell_type": "code",
   "execution_count": null,
   "metadata": {
    "collapsed": false
   },
   "outputs": [],
   "source": [
    "all_hrefs"
   ]
  },
  {
   "cell_type": "code",
   "execution_count": null,
   "metadata": {
    "collapsed": false
   },
   "outputs": [],
   "source": [
    "\n",
    "    "
   ]
  },
  {
   "cell_type": "code",
   "execution_count": null,
   "metadata": {
    "collapsed": false
   },
   "outputs": [],
   "source": [
    "import urllib2\n",
    "import os\n",
    "for url in urls:\n",
    "    my_file = urllib2.urlopen(url)    \n",
    "    with open(\"all_prison_finder_html/\" + tail,'wb') as output:\n",
    "        output.write(my_file.read())"
   ]
  },
  {
   "cell_type": "code",
   "execution_count": null,
   "metadata": {
    "collapsed": false
   },
   "outputs": [],
   "source": []
  },
  {
   "cell_type": "code",
   "execution_count": null,
   "metadata": {
    "collapsed": false
   },
   "outputs": [],
   "source": []
  },
  {
   "cell_type": "code",
   "execution_count": null,
   "metadata": {
    "collapsed": false
   },
   "outputs": [],
   "source": []
  },
  {
   "cell_type": "code",
   "execution_count": null,
   "metadata": {
    "collapsed": false
   },
   "outputs": [],
   "source": []
  },
  {
   "cell_type": "code",
   "execution_count": null,
   "metadata": {
    "collapsed": false
   },
   "outputs": [],
   "source": [
    "\n"
   ]
  },
  {
   "cell_type": "code",
   "execution_count": null,
   "metadata": {
    "collapsed": true
   },
   "outputs": [],
   "source": []
  }
 ],
 "metadata": {
  "kernelspec": {
   "display_name": "Python 2",
   "language": "python",
   "name": "python2"
  },
  "language_info": {
   "codemirror_mode": {
    "name": "ipython",
    "version": 2
   },
   "file_extension": ".py",
   "mimetype": "text/x-python",
   "name": "python",
   "nbconvert_exporter": "python",
   "pygments_lexer": "ipython2",
   "version": "2.7.11"
  }
 },
 "nbformat": 4,
 "nbformat_minor": 0
}
