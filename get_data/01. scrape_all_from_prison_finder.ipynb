{
 "cells": [
  {
   "cell_type": "code",
   "execution_count": 3,
   "metadata": {
    "collapsed": false
   },
   "outputs": [],
   "source": [
    "from bs4 import BeautifulSoup\n",
    "import requests\n",
    "from pyth.plugins.rtf15.reader import Rtf15Reader\n",
    "from pyth.plugins.xhtml.writer import XHTMLWriter\n",
    "import pandas as pd\n",
    "import urllib2\n",
    "from cStringIO import StringIO\n",
    "\n",
    "import re\n",
    "\n",
    "# For now just do all the rtf links\n",
    "url_temp = \"http://www.justice.gov.uk/contacts/prison-finder/prisonfinder-a-z?result_33549_result_page={}\""
   ]
  },
  {
   "cell_type": "code",
   "execution_count": 24,
   "metadata": {
    "collapsed": false
   },
   "outputs": [
    {
     "data": {
      "text/plain": [
       "'closed-training-females'"
      ]
     },
     "execution_count": 24,
     "metadata": {},
     "output_type": "execute_result"
    }
   ],
   "source": [
    "tail"
   ]
  },
  {
   "cell_type": "code",
   "execution_count": 25,
   "metadata": {
    "collapsed": false
   },
   "outputs": [
    {
     "name": "stdout",
     "output_type": "stream",
     "text": [
      "http://www.justice.gov.uk/contacts/prison-finder/acklington2\n",
      "http://www.justice.gov.uk/contacts/prison-finder/altcourse\n",
      "http://www.justice.gov.uk/contacts/prison-finder/ashfield\n",
      "http://www.justice.gov.uk/contacts/prison-finder/askham-grange\n",
      "http://www.justice.gov.uk/contacts/prison-finder/aylesbury\n",
      "http://www.justice.gov.uk/contacts/prison-finder/bedford\n",
      "http://www.justice.gov.uk/contacts/prison-finder/belmarsh\n",
      "http://www.justice.gov.uk/contacts/prison-finder/birmingham\n",
      "http://www.justice.gov.uk/contacts/prison-finder/blantyre-house\n",
      "http://www.justice.gov.uk/contacts/prison-finder/brinsford\n",
      "http://www.justice.gov.uk/contacts/prison-finder/bristol\n",
      "http://www.justice.gov.uk/contacts/prison-finder/brixton\n",
      "http://www.justice.gov.uk/contacts/prison-finder/bronzefield\n",
      "http://www.justice.gov.uk/contacts/prison-finder/buckley-hall\n",
      "http://www.justice.gov.uk/contacts/prison-finder/bullingdon\n",
      "http://www.justice.gov.uk/contacts/prison-finder/bure\n",
      "http://www.justice.gov.uk/contacts/prison-finder/cardiff\n",
      "http://www.justice.gov.uk/contacts/prison-finder/castington2\n",
      "http://www.justice.gov.uk/contacts/prison-finder/cat-b\n",
      "http://www.justice.gov.uk/contacts/prison-finder/cat-b-local-with-restricted-status-female-function\n",
      "http://www.justice.gov.uk/contacts/prison-finder/cat-b-c-and-d\n",
      "http://www.justice.gov.uk/contacts/prison-finder/cat-c-d-semi-open\n",
      "http://www.justice.gov.uk/contacts/prison-finder/channings-wood\n",
      "http://www.justice.gov.uk/contacts/prison-finder/chelmsford\n",
      "http://www.justice.gov.uk/contacts/prison-finder/closed-training-females\n",
      "http://www.justice.gov.uk/contacts/prison-finder/closed-young-offender-institution\n",
      "http://www.justice.gov.uk/contacts/prison-finder/coldingley\n",
      "http://www.justice.gov.uk/contacts/prison-finder/cookham-wood\n",
      "http://www.justice.gov.uk/contacts/prison-finder/dartmoor\n",
      "http://www.justice.gov.uk/contacts/prison-finder/deerbolt\n",
      "http://www.justice.gov.uk/contacts/prison-finder/doncaster\n",
      "http://www.justice.gov.uk/contacts/prison-finder/dovegate\n",
      "http://www.justice.gov.uk/contacts/prison-finder/dover-immigration-removal-centre\n",
      "http://www.justice.gov.uk/contacts/prison-finder/downview\n",
      "http://www.justice.gov.uk/contacts/prison-finder/drake-hall\n",
      "http://www.justice.gov.uk/contacts/prison-finder/durham\n",
      "http://www.justice.gov.uk/contacts/prison-finder/East-Midlands\n",
      "http://www.justice.gov.uk/contacts/prison-finder/East-of-England\n",
      "http://www.justice.gov.uk/contacts/prison-finder/east-sutton-park\n",
      "http://www.justice.gov.uk/contacts/prison-finder/eastwood-park\n",
      "http://www.justice.gov.uk/contacts/prison-finder/sheppey-cluster-elmley\n",
      "http://www.justice.gov.uk/contacts/prison-finder/erlestoke\n",
      "http://www.justice.gov.uk/contacts/prison-finder/exeter\n",
      "http://www.justice.gov.uk/contacts/prison-finder/featherstone\n",
      "http://www.justice.gov.uk/contacts/prison-finder/feltham\n",
      "http://www.justice.gov.uk/contacts/prison-finder/ford\n",
      "http://www.justice.gov.uk/contacts/prison-finder/forest-bank\n",
      "http://www.justice.gov.uk/contacts/prison-finder/foston-hall\n",
      "http://www.justice.gov.uk/contacts/prison-finder/frankland\n",
      "http://www.justice.gov.uk/contacts/prison-finder/full-sutton\n",
      "http://www.justice.gov.uk/contacts/prison-finder/garth\n",
      "http://www.justice.gov.uk/contacts/prison-finder/gartree\n",
      "http://www.justice.gov.uk/contacts/prison-finder/glen-parva\n",
      "http://www.justice.gov.uk/contacts/prison-finder/grendon\n",
      "http://www.justice.gov.uk/contacts/prison-finder/guys-marsh\n",
      "http://www.justice.gov.uk/contacts/prison-finder/haslar-immigration-removal-centre\n",
      "http://www.justice.gov.uk/contacts/prison-finder/hatfield\n",
      "http://www.justice.gov.uk/contacts/prison-finder/haverigg\n",
      "http://www.justice.gov.uk/contacts/prison-finder/hewell\n",
      "http://www.justice.gov.uk/contacts/prison-finder/high-down\n",
      "http://www.justice.gov.uk/contacts/prison-finder/high-security\n",
      "http://www.justice.gov.uk/contacts/prison-finder/highpoint-south\n",
      "http://www.justice.gov.uk/contacts/prison-finder/hindley\n",
      "http://www.justice.gov.uk/contacts/prison-finder/hollesley-bay\n",
      "http://www.justice.gov.uk/contacts/prison-finder/holme-house\n",
      "http://www.justice.gov.uk/contacts/prison-finder/hull\n",
      "http://www.justice.gov.uk/contacts/prison-finder/everthorpe\n",
      "http://www.justice.gov.uk/contacts/prison-finder/huntercombe\n",
      "http://www.justice.gov.uk/contacts/prison-finder/immigration-removal-centre\n",
      "http://www.justice.gov.uk/contacts/prison-finder/isis\n",
      "http://www.justice.gov.uk/contacts/prison-finder/isle-of-wight\n",
      "http://www.justice.gov.uk/contacts/prison-finder/juvenile-under-18\n",
      "http://www.justice.gov.uk/contacts/prison-finder/kennet\n",
      "http://www.justice.gov.uk/contacts/prison-finder/Kent-and-Sussex\n",
      "http://www.justice.gov.uk/contacts/prison-finder/kirkham\n",
      "http://www.justice.gov.uk/contacts/prison-finder/kirklevington-grange\n",
      "http://www.justice.gov.uk/contacts/prison-finder/lancaster-farms\n",
      "http://www.justice.gov.uk/contacts/prison-finder/leeds\n",
      "http://www.justice.gov.uk/contacts/prison-finder/leicester\n",
      "http://www.justice.gov.uk/contacts/prison-finder/lewes\n",
      "http://www.justice.gov.uk/contacts/prison-finder/leyhill\n",
      "http://www.justice.gov.uk/contacts/prison-finder/lincoln\n",
      "http://www.justice.gov.uk/contacts/prison-finder/lindholme\n",
      "http://www.justice.gov.uk/contacts/prison-finder/littlehey\n",
      "http://www.justice.gov.uk/contacts/prison-finder/liverpool\n",
      "http://www.justice.gov.uk/contacts/prison-finder/local-female\n",
      "http://www.justice.gov.uk/contacts/prison-finder/local-male\n",
      "http://www.justice.gov.uk/contacts/prison-finder/London\n",
      "http://www.justice.gov.uk/contacts/prison-finder/long-lartin\n",
      "http://www.justice.gov.uk/contacts/prison-finder/low-newton\n",
      "http://www.justice.gov.uk/contacts/prison-finder/lowdham-grange\n",
      "http://www.justice.gov.uk/contacts/prison-finder/maidstone\n",
      "http://www.justice.gov.uk/contacts/prison-finder/males-cat-b\n",
      "http://www.justice.gov.uk/contacts/prison-finder/males-cat-c\n",
      "http://www.justice.gov.uk/contacts/prison-finder/males-cat-d\n",
      "http://www.justice.gov.uk/contacts/prison-finder/manchester\n",
      "http://www.justice.gov.uk/contacts/prison-finder/moorland\n",
      "http://www.justice.gov.uk/contacts/prison-finder/morton-hall\n",
      "http://www.justice.gov.uk/contacts/prison-finder/new-hall\n",
      "http://www.justice.gov.uk/contacts/prison-finder/North-East\n",
      "http://www.justice.gov.uk/contacts/prison-finder/north-sea-camp\n",
      "http://www.justice.gov.uk/contacts/prison-finder/North-West\n",
      "http://www.justice.gov.uk/contacts/prison-finder/northumberland\n",
      "http://www.justice.gov.uk/contacts/prison-finder/norwich\n",
      "http://www.justice.gov.uk/contacts/prison-finder/nottingham\n",
      "http://www.justice.gov.uk/contacts/prison-finder/hmp-oakwood\n",
      "http://www.justice.gov.uk/contacts/prison-finder/onley\n",
      "http://www.justice.gov.uk/contacts/prison-finder/open-training-females\n",
      "http://www.justice.gov.uk/contacts/prison-finder/open-young-offender-institution\n",
      "http://www.justice.gov.uk/contacts/prison-finder/parc\n",
      "http://www.justice.gov.uk/contacts/prison-finder/pentonville\n",
      "http://www.justice.gov.uk/contacts/prison-finder/peterborough\n",
      "http://www.justice.gov.uk/contacts/prison-finder/portland\n",
      "http://www.justice.gov.uk/contacts/prison-finder/usk-prescoed-prescoed\n",
      "http://www.justice.gov.uk/contacts/prison-finder/preston\n",
      "http://www.justice.gov.uk/contacts/prison-finder/acklington2\n",
      "http://www.justice.gov.uk/contacts/prison-finder/altcourse\n",
      "http://www.justice.gov.uk/contacts/prison-finder/ashfield\n",
      "http://www.justice.gov.uk/contacts/prison-finder/askham-grange\n",
      "http://www.justice.gov.uk/contacts/prison-finder/aylesbury\n",
      "http://www.justice.gov.uk/contacts/prison-finder/ranby\n",
      "http://www.justice.gov.uk/contacts/prison-finder/risley\n",
      "http://www.justice.gov.uk/contacts/prison-finder/rochester\n",
      "http://www.justice.gov.uk/contacts/prison-finder/rye-hill\n",
      "http://www.justice.gov.uk/contacts/prison-finder/send\n",
      "http://www.justice.gov.uk/contacts/prison-finder/South-Central\n",
      "http://www.justice.gov.uk/contacts/prison-finder/South-West\n",
      "http://www.justice.gov.uk/contacts/prison-finder/spring-hill\n",
      "http://www.justice.gov.uk/contacts/prison-finder/stafford\n",
      "http://www.justice.gov.uk/contacts/prison-finder/sheppey-cluster-standford-hill\n",
      "http://www.justice.gov.uk/contacts/prison-finder/stocken\n",
      "http://www.justice.gov.uk/contacts/prison-finder/stoke-heath\n",
      "http://www.justice.gov.uk/contacts/prison-finder/styal\n",
      "http://www.justice.gov.uk/contacts/prison-finder/sudbury\n",
      "http://www.justice.gov.uk/contacts/prison-finder/sheppey-cluster-swaleside\n",
      "http://www.justice.gov.uk/contacts/prison-finder/swansea\n",
      "http://www.justice.gov.uk/contacts/prison-finder/swinfen-hall\n",
      "http://www.justice.gov.uk/contacts/prison-finder/thameside\n",
      "http://www.justice.gov.uk/contacts/prison-finder/the-mount\n",
      "http://www.justice.gov.uk/contacts/prison-finder/thorn-cross\n",
      "http://www.justice.gov.uk/contacts/prison-finder/usk-prescoed-usk\n",
      "http://www.justice.gov.uk/contacts/prison-finder/verne\n",
      "http://www.justice.gov.uk/contacts/prison-finder/wakefield\n",
      "http://www.justice.gov.uk/contacts/prison-finder/Wales\n",
      "http://www.justice.gov.uk/contacts/prison-finder/wandsworth\n",
      "http://www.justice.gov.uk/contacts/prison-finder/warren-hill\n",
      "http://www.justice.gov.uk/contacts/prison-finder/wayland\n",
      "http://www.justice.gov.uk/contacts/prison-finder/wealstun\n",
      "http://www.justice.gov.uk/contacts/prison-finder/werrington\n",
      "http://www.justice.gov.uk/contacts/prison-finder/West-Midlands\n",
      "http://www.justice.gov.uk/contacts/prison-finder/wetherby\n",
      "http://www.justice.gov.uk/contacts/prison-finder/whatton\n",
      "http://www.justice.gov.uk/contacts/prison-finder/whitemoor\n",
      "http://www.justice.gov.uk/contacts/prison-finder/winchester\n",
      "http://www.justice.gov.uk/contacts/prison-finder/woodhill\n",
      "http://www.justice.gov.uk/contacts/prison-finder/wormwood-scrubs\n",
      "http://www.justice.gov.uk/contacts/prison-finder/wymott\n",
      "http://www.justice.gov.uk/contacts/prison-finder/acklington2\n",
      "http://www.justice.gov.uk/contacts/prison-finder/altcourse\n",
      "http://www.justice.gov.uk/contacts/prison-finder/ashfield\n",
      "http://www.justice.gov.uk/contacts/prison-finder/askham-grange\n",
      "http://www.justice.gov.uk/contacts/prison-finder/aylesbury\n",
      "http://www.justice.gov.uk/contacts/prison-finder/Yorkshire-and-Humberside\n",
      "http://www.justice.gov.uk/contacts/prison-finder/acklington2\n",
      "http://www.justice.gov.uk/contacts/prison-finder/altcourse\n",
      "http://www.justice.gov.uk/contacts/prison-finder/ashfield\n",
      "http://www.justice.gov.uk/contacts/prison-finder/askham-grange\n",
      "http://www.justice.gov.uk/contacts/prison-finder/aylesbury\n"
     ]
    }
   ],
   "source": [
    "import string\n",
    "import requests\n",
    "import urllib2\n",
    "import os\n",
    "\n",
    "urls = []\n",
    "for i in string.ascii_uppercase:\n",
    "    url = url_temp.format(i)\n",
    "\n",
    "\n",
    "    import requests\n",
    "    r = requests.get(url)\n",
    "    soup = BeautifulSoup(r.content,\"lxml\")\n",
    "    all_links = soup.find(\"div\", class_=\"article\").findAll(\"ul\")[1:]\n",
    "    all_hrefs = [h.find(\"a\")[\"href\"] for h in all_links]\n",
    "    for link in all_hrefs:\n",
    "        #get prison name here\n",
    "        print link\n",
    "        head, tail = os.path.split(link)\n",
    "        my_file = urllib2.urlopen(link)\n",
    "        with open(\"all_prison_finder_html/\" + tail + \".html\",'wb') as output:\n",
    "            output.write(my_file.read())"
   ]
  },
  {
   "cell_type": "code",
   "execution_count": 15,
   "metadata": {
    "collapsed": false
   },
   "outputs": [
    {
     "data": {
      "text/plain": [
       "[<ul><a href=\"http://www.justice.gov.uk/contacts/prison-finder/acklington2\">Acklington</a></ul>,\n",
       " <ul><a href=\"http://www.justice.gov.uk/contacts/prison-finder/altcourse\">Altcourse</a></ul>,\n",
       " <ul><a href=\"http://www.justice.gov.uk/contacts/prison-finder/ashfield\">Ashfield</a></ul>,\n",
       " <ul><a href=\"http://www.justice.gov.uk/contacts/prison-finder/askham-grange\">Askham Grange</a></ul>,\n",
       " <ul><a href=\"http://www.justice.gov.uk/contacts/prison-finder/aylesbury\">Aylesbury</a></ul>]"
      ]
     },
     "execution_count": 15,
     "metadata": {},
     "output_type": "execute_result"
    }
   ],
   "source": []
  },
  {
   "cell_type": "code",
   "execution_count": 16,
   "metadata": {
    "collapsed": false
   },
   "outputs": [],
   "source": [
    "all_links = soup.find(\"div\", class_=\"article\").findAll(\"ul\")[1:]\n",
    "all_hrefs = [h.find(\"a\")[\"href\"] for h in all_links]"
   ]
  },
  {
   "cell_type": "code",
   "execution_count": 17,
   "metadata": {
    "collapsed": false
   },
   "outputs": [
    {
     "data": {
      "text/plain": [
       "['http://www.justice.gov.uk/contacts/prison-finder/acklington2',\n",
       " 'http://www.justice.gov.uk/contacts/prison-finder/altcourse',\n",
       " 'http://www.justice.gov.uk/contacts/prison-finder/ashfield',\n",
       " 'http://www.justice.gov.uk/contacts/prison-finder/askham-grange',\n",
       " 'http://www.justice.gov.uk/contacts/prison-finder/aylesbury']"
      ]
     },
     "execution_count": 17,
     "metadata": {},
     "output_type": "execute_result"
    }
   ],
   "source": [
    "all_hrefs"
   ]
  },
  {
   "cell_type": "code",
   "execution_count": 92,
   "metadata": {
    "collapsed": false
   },
   "outputs": [],
   "source": [
    "\n",
    "    "
   ]
  },
  {
   "cell_type": "code",
   "execution_count": 15,
   "metadata": {
    "collapsed": false
   },
   "outputs": [],
   "source": [
    "import urllib2\n",
    "import os\n",
    "for url in urls:\n",
    "    my_file = urllib2.urlopen(url)    \n",
    "    with open(\"all_prison_finder_html/\" + tail,'wb') as output:\n",
    "        output.write(my_file.read())"
   ]
  },
  {
   "cell_type": "code",
   "execution_count": 93,
   "metadata": {
    "collapsed": false
   },
   "outputs": [],
   "source": []
  },
  {
   "cell_type": "code",
   "execution_count": null,
   "metadata": {
    "collapsed": false
   },
   "outputs": [],
   "source": []
  },
  {
   "cell_type": "code",
   "execution_count": null,
   "metadata": {
    "collapsed": false
   },
   "outputs": [],
   "source": []
  },
  {
   "cell_type": "code",
   "execution_count": 94,
   "metadata": {
    "collapsed": false
   },
   "outputs": [],
   "source": []
  },
  {
   "cell_type": "code",
   "execution_count": null,
   "metadata": {
    "collapsed": false
   },
   "outputs": [],
   "source": [
    "\n"
   ]
  },
  {
   "cell_type": "code",
   "execution_count": null,
   "metadata": {
    "collapsed": true
   },
   "outputs": [],
   "source": []
  }
 ],
 "metadata": {
  "kernelspec": {
   "display_name": "Python 2",
   "language": "python",
   "name": "python2"
  },
  "language_info": {
   "codemirror_mode": {
    "name": "ipython",
    "version": 2
   },
   "file_extension": ".py",
   "mimetype": "text/x-python",
   "name": "python",
   "nbconvert_exporter": "python",
   "pygments_lexer": "ipython2",
   "version": "2.7.11"
  }
 },
 "nbformat": 4,
 "nbformat_minor": 0
}
