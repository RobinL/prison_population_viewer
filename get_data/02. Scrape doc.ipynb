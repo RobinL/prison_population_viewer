{
 "cells": [
  {
   "cell_type": "markdown",
   "metadata": {
    "collapsed": true
   },
   "source": [
    "Eventually it turned out to be easiest to download all docx and doc and use vba to convert to txt (Python cannot read .doc)"
   ]
  },
  {
   "cell_type": "code",
   "execution_count": 88,
   "metadata": {
    "collapsed": false
   },
   "outputs": [],
   "source": [
    "links = []\n",
    "links.append(r\"https://www.gov.uk/government/statistics/prison-population-2011\")\n",
    "links.append(r\"https://www.gov.uk/government/statistics/prison-population-2012\")\n",
    "links.append(r\"https://www.gov.uk/government/statistics/prison-population-figures-2014\")\n",
    "links.append(r\"https://www.gov.uk/government/statistics/prison-population-figures\")"
   ]
  },
  {
   "cell_type": "code",
   "execution_count": 89,
   "metadata": {
    "collapsed": false
   },
   "outputs": [],
   "source": [
    "from bs4 import BeautifulSoup\n",
    "import requests\n",
    "\n",
    "all_links = set()\n",
    "\n",
    "for link in links:\n",
    "    r = requests.get(link)\n",
    "    soup = BeautifulSoup(r.content,\"lxml\")\n",
    "    s = set([(a.text, a[\"href\"]) for a in soup.findAll(\"a\") if \".doc\" in a[\"href\"] and a.text != \"\" and \"monthly\" in a.text.lower()])\n",
    "    all_links = all_links.union(s)"
   ]
  },
  {
   "cell_type": "code",
   "execution_count": 92,
   "metadata": {
    "collapsed": true
   },
   "outputs": [],
   "source": [
    "dls = [\"https://www.gov.uk\" + l[1] for l in list(all_links) if \"docx\" in l[1]]"
   ]
  },
  {
   "cell_type": "code",
   "execution_count": 5,
   "metadata": {
    "collapsed": false
   },
   "outputs": [],
   "source": [
    "import os "
   ]
  },
  {
   "cell_type": "code",
   "execution_count": 6,
   "metadata": {
    "collapsed": false
   },
   "outputs": [],
   "source": [
    "# Download all .doc and save to folder for bulk conversion to .docx\n",
    "# import urllib2\n",
    "# dls = [l for l in list(all_links) if \"docx\" not in l[1]]\n",
    "# dls\n",
    "# for l in dls:\n",
    "#     url = \"https://www.gov.uk\" + l[1]\n",
    "#     head, tail = os.path.split(url)\n",
    "#     my_file = urllib2.urlopen(url)\n",
    "    \n",
    "#     with open(\"downloads/\" + tail,'wb') as output:\n",
    "#       output.write(my_file.read())\n",
    "    "
   ]
  },
  {
   "cell_type": "code",
   "execution_count": 7,
   "metadata": {
    "collapsed": true
   },
   "outputs": [],
   "source": [
    "# All the others\n",
    "all_links = [l for l in all_links if \"docx\" in l[1]]"
   ]
  },
  {
   "cell_type": "code",
   "execution_count": 8,
   "metadata": {
    "collapsed": true
   },
   "outputs": [],
   "source": [
    "urls = iter(list(all_links))"
   ]
  },
  {
   "cell_type": "code",
   "execution_count": 9,
   "metadata": {
    "collapsed": false
   },
   "outputs": [],
   "source": [
    "from cStringIO import StringIO\n",
    "import re\n",
    "from docx import Document\n",
    "import urllib2\n",
    "\n"
   ]
  },
  {
   "cell_type": "code",
   "execution_count": 55,
   "metadata": {
    "collapsed": true
   },
   "outputs": [],
   "source": [
    "def file_to_df(doc,my_file):\n",
    "    re_pattern = r\"\\t\\d{1,3}%$\"\n",
    "\n",
    "    paras = [p.text for p in doc.paragraphs if re.search(re_pattern, p.text) and p.text.count(\"\\t\") > 4]\n",
    "    paras = [p.replace(\"\\t**\", \"\") for p in paras]\n",
    "\n",
    "    f = \"\\n\".join(paras)\n",
    "    f2 = StringIO(f)\n",
    "    import pandas as pd\n",
    "    df = pd.read_csv(f2, sep = \"\\t\", header=None)\n",
    "    df.columns = [\"prison_name\",\"baseline_cna\", \"in_use_cna\", \"operational_capacity\", \"population\", \"perc_pop_to_used_cna\", \"perc_acc_available\"]\n",
    "    \n",
    "    #Parse out the date here\n",
    "    re_pattern = r\"(\\d{2}/\\d{2}/\\d{4})\"\n",
    "    \n",
    "    f = \" \".join([p.text for p in doc.paragraphs])\n",
    "    date = re.search(re_pattern, f).group(1)   \n",
    "    df[\"date\"] = date\n",
    "    df[\"source\"] = my_file\n",
    "    return df"
   ]
  },
  {
   "cell_type": "code",
   "execution_count": 56,
   "metadata": {
    "collapsed": false
   },
   "outputs": [],
   "source": [
    "# Create a tsv and then read in as a tsv\n",
    "dfs = []\n",
    "for tup in all_links:\n",
    "    desc = tup[0]\n",
    "    url = \"https://www.gov.uk\" + tup[1]\n",
    "    document = Document()\n",
    "\n",
    "    docx_file = urllib2.urlopen(url)\n",
    "    docx_file = StringIO(docx_file.read())\n",
    "    doc = Document(docx_file)\n",
    "    dfs.append(file_to_df(doc,url))\n",
    "\n",
    " "
   ]
  },
  {
   "cell_type": "code",
   "execution_count": 57,
   "metadata": {
    "collapsed": false
   },
   "outputs": [],
   "source": [
    "# Now iterate through all the .docs which were converted in VBA\n",
    "for i in os.listdir(\"vba_converted/\"):\n",
    "    if i.endswith(\".docx\"): \n",
    "        with open(\"vba_converted/\"+i) as f:\n",
    "            doc = Document(f)\n",
    "            dfs.append(file_to_df(doc,i))\n",
    "    else:\n",
    "        continue"
   ]
  },
  {
   "cell_type": "code",
   "execution_count": 60,
   "metadata": {
    "collapsed": false
   },
   "outputs": [],
   "source": [
    "pd.options.display.max_colwidth = 10000\n",
    "df_all = pd.concat(dfs)"
   ]
  },
  {
   "cell_type": "code",
   "execution_count": 63,
   "metadata": {
    "collapsed": false
   },
   "outputs": [],
   "source": [
    "gb = df_all.groupby(\"prison_name\")"
   ]
  },
  {
   "cell_type": "code",
   "execution_count": 86,
   "metadata": {
    "collapsed": true
   },
   "outputs": [],
   "source": [
    "with open(\"prison-population-bulletin-march-2011.docx\") as f:\n",
    "    doc = Document(f)\n",
    "#     dfs.append(file_to_df(doc,i))\n",
    "#     re_pattern = r\"\\t\\d{1,3}%$\"\n",
    "\n",
    "#     paras = [p.text for p in doc.paragraphs if re.search(re_pattern, p.text) and p.text.count(\"\\t\") > 4]\n",
    "#     paras = [p.replace(\"\\t**\", \"\") for p in paras]\n",
    "\n",
    "#     f = \"\\n\".join(paras)\n",
    "    "
   ]
  },
  {
   "cell_type": "code",
   "execution_count": null,
   "metadata": {
    "collapsed": true
   },
   "outputs": [],
   "source": []
  }
 ],
 "metadata": {
  "kernelspec": {
   "display_name": "Python 2",
   "language": "python",
   "name": "python2"
  },
  "language_info": {
   "codemirror_mode": {
    "name": "ipython",
    "version": 2
   },
   "file_extension": ".py",
   "mimetype": "text/x-python",
   "name": "python",
   "nbconvert_exporter": "python",
   "pygments_lexer": "ipython2",
   "version": "2.7.11"
  }
 },
 "nbformat": 4,
 "nbformat_minor": 0
}
