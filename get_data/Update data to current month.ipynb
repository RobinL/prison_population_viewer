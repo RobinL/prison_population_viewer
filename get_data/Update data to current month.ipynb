{
 "cells": [
  {
   "cell_type": "code",
   "execution_count": 1,
   "metadata": {
    "collapsed": false
   },
   "outputs": [],
   "source": [
    "from bs4 import BeautifulSoup\n",
    "import requests\n",
    "from pyth.plugins.rtf15.reader import Rtf15Reader\n",
    "from pyth.plugins.xhtml.writer import XHTMLWriter\n",
    "import pandas as pd\n",
    "import urllib2\n",
    "from cStringIO import StringIO\n",
    "\n",
    "import re\n",
    "\n",
    "#All the rtf links\n",
    "url = \"https://www.gov.uk/government/statistics/prison-population-figures-2015\"\n",
    "r = requests.get(url)\n",
    "soup = BeautifulSoup(r.content,\"lxml\")\n",
    "s1 = set([(a.text, a[\"href\"]) for a in soup.findAll(\"a\") if \".rtf\" in a[\"href\"] and a.text != \"\"])"
   ]
  },
  {
   "cell_type": "code",
   "execution_count": 2,
   "metadata": {
    "collapsed": false
   },
   "outputs": [],
   "source": [
    "url = \"https://www.gov.uk/government/statistics/prison-population-figures-2016\"\n",
    "\n",
    "r = requests.get(url)\n",
    "soup = BeautifulSoup(r.content,\"lxml\")\n",
    "s2 = set([(a.text, a[\"href\"]) for a in soup.findAll(\"a\") if \".rtf\" in a[\"href\"] and a.text != \"\"])"
   ]
  },
  {
   "cell_type": "code",
   "execution_count": 3,
   "metadata": {
    "collapsed": false
   },
   "outputs": [],
   "source": [
    "all_links = s1.union(s2)"
   ]
  },
  {
   "cell_type": "code",
   "execution_count": 4,
   "metadata": {
    "collapsed": false
   },
   "outputs": [],
   "source": [
    "def get_table(doc, source):\n",
    "    final_data = []\n",
    "\n",
    "    header = False\n",
    "    for c in doc.content:\n",
    "        full_p = \"\".join([d.content[0] for d in c.content])\n",
    "        full_p = full_p.replace(\"\\t**\", \"\")\n",
    "        if \"Capacity\" in full_p and \"Use CNA\" in full_p:\n",
    "            \n",
    "            header = True\n",
    "            continue\n",
    "\n",
    "        if header:\n",
    "            row= re.split(r\"\\t\", full_p)\n",
    "            if len(row) == 7 and \"Prison Name\" not in row:\n",
    "                final_data.append(row)\n",
    "    df = pd.DataFrame(final_data, columns = [\"prison_name\",\"baseline_cna\", \"in_use_cna\", \"operational_capacity\", \"population\", \"perc_pop_to_used_cna\", \"perc_acc_available\"])\n",
    "    df.iloc[:,1:] = df.iloc[:,1:].replace(\"%\", \"\", regex=True).replace(\",\", \"\", regex=True)\n",
    "\n",
    "    for c in df.columns:\n",
    "        df[c]= pd.to_numeric(df[c], errors='ignore')\n",
    "    cols = [c for c in df.columns if \"perc\" in c]\n",
    "    df.loc[:,cols] = df.loc[:,cols]/100\n",
    "    \n",
    "    all_text =  \"\\n\".join([p.content[0].content[0] for p in doc.content])\n",
    "    \n",
    "    #Parse out the date here\n",
    "    re_pattern = r\"(\\d{2}/\\d{2}/\\d{4})\"\n",
    "    \n",
    "    date = re.search(re_pattern, all_text).group(1)   \n",
    "    df[\"date\"] = date\n",
    "    df[\"source\"] = source\n",
    "    \n",
    "    \n",
    "    return df"
   ]
  },
  {
   "cell_type": "code",
   "execution_count": 5,
   "metadata": {
    "collapsed": false
   },
   "outputs": [],
   "source": [
    "import urllib2\n",
    "import os\n",
    "\n",
    "dfs = []\n",
    "\n",
    "for link in all_links:\n",
    "    text = link[0]\n",
    "    link = link[1]\n",
    "    rtf_file = urllib2.urlopen(\"http://www.gov.uk\" +link)\n",
    "    rtf_file = StringIO(rtf_file.read())\n",
    "    doc = Rtf15Reader.read(rtf_file)\n",
    "    df = get_table(doc, \"http://www.gov.uk\" +link)\n",
    "    dfs.append(df)\n",
    "    \n",
    "    head, tail = os.path.split(link)\n",
    "    rtf_file = urllib2.urlopen(\"http://www.gov.uk\" +link)\n",
    "    with open(\"all_rtf/\" + tail,'wb') as output:\n",
    "        output.write(rtf_file.read())"
   ]
  },
  {
   "cell_type": "code",
   "execution_count": 6,
   "metadata": {
    "collapsed": false
   },
   "outputs": [],
   "source": [
    "final = pd.concat(dfs)\n",
    "final[\"date\"] = pd.to_datetime(final[\"date\"],infer_datetime_format=True)"
   ]
  },
  {
   "cell_type": "code",
   "execution_count": 7,
   "metadata": {
    "collapsed": false
   },
   "outputs": [],
   "source": [
    "final.to_csv(\"pop_data/all_pop_data_rtf.csv\", index=False, encoding=\"utf-8\")"
   ]
  },
  {
   "cell_type": "code",
   "execution_count": 8,
   "metadata": {
    "collapsed": true
   },
   "outputs": [],
   "source": [
    "dfs = []\n",
    "dfs.append(pd.read_csv(\"pop_data/all_pop_data_rtf.csv\"))\n",
    "dfs.append(pd.read_csv(\"pop_data/all_pop_data_txt.csv\"))\n",
    "\n",
    "all_data = pd.concat(dfs)\n",
    "pgs = pd.read_csv(\"manual/prison_groups_lookup_and_manual_classification.csv\")"
   ]
  },
  {
   "cell_type": "code",
   "execution_count": 9,
   "metadata": {
    "collapsed": true
   },
   "outputs": [],
   "source": [
    "pgs = pgs.drop([c for c in pgs.columns if \"Unnamed\" in c],axis=1)\n",
    "pgs = pgs.fillna(0)"
   ]
  },
  {
   "cell_type": "code",
   "execution_count": 10,
   "metadata": {
    "collapsed": false
   },
   "outputs": [
    {
     "data": {
      "text/html": [
       "<div>\n",
       "<table border=\"1\" class=\"dataframe\">\n",
       "  <thead>\n",
       "    <tr style=\"text-align: right;\">\n",
       "      <th></th>\n",
       "      <th>prison_name</th>\n",
       "      <th>baseline_cna</th>\n",
       "      <th>in_use_cna</th>\n",
       "      <th>operational_capacity</th>\n",
       "      <th>population</th>\n",
       "      <th>perc_pop_to_used_cna</th>\n",
       "      <th>perc_acc_available</th>\n",
       "      <th>date</th>\n",
       "      <th>source</th>\n",
       "      <th>prison_name_original</th>\n",
       "      <th>prison_name_group</th>\n",
       "    </tr>\n",
       "  </thead>\n",
       "  <tbody>\n",
       "    <tr>\n",
       "      <th>0</th>\n",
       "      <td>Altcourse</td>\n",
       "      <td>794</td>\n",
       "      <td>794</td>\n",
       "      <td>1133</td>\n",
       "      <td>1113</td>\n",
       "      <td>1.4</td>\n",
       "      <td>1</td>\n",
       "      <td>2015-02-27</td>\n",
       "      <td>http://www.gov.uk/government/uploads/system/up...</td>\n",
       "      <td>Altcourse</td>\n",
       "      <td>Altcourse</td>\n",
       "    </tr>\n",
       "  </tbody>\n",
       "</table>\n",
       "</div>"
      ],
      "text/plain": [
       "  prison_name  baseline_cna  in_use_cna  operational_capacity  population  \\\n",
       "0   Altcourse           794         794                  1133        1113   \n",
       "\n",
       "   perc_pop_to_used_cna  perc_acc_available        date  \\\n",
       "0                   1.4                   1  2015-02-27   \n",
       "\n",
       "                                              source prison_name_original  \\\n",
       "0  http://www.gov.uk/government/uploads/system/up...            Altcourse   \n",
       "\n",
       "  prison_name_group  \n",
       "0         Altcourse  "
      ]
     },
     "execution_count": 10,
     "metadata": {},
     "output_type": "execute_result"
    }
   ],
   "source": [
    "all_data = all_data.merge(pgs[[\"prison_name_original\",\"prison_name_group\"]], left_on=\"prison_name\", right_on=\"prison_name_original\", how=\"left\")\n",
    "all_data = all_data.fillna(0)\n",
    "all_data.head(1)"
   ]
  },
  {
   "cell_type": "code",
   "execution_count": 11,
   "metadata": {
    "collapsed": false
   },
   "outputs": [],
   "source": [
    "all_data = all_data.drop([\"prison_name\", \"prison_name_original\"], axis=1)\n",
    "all_data.head(2)\n",
    "all_data  = all_data.pivot_table(index=[\"prison_name_group\", \"source\", \"date\"], aggfunc=\"sum\", values = [\"operational_capacity\", \"baseline_cna\", \"in_use_cna\",\"population\"]).reset_index()\n",
    "prisons = pd.read_csv(\"manual/all_prison_data_final_manual.csv\")\n",
    "prisons[\"lat\"]= prisons[\"lat\"].fillna(prisons[\"lat_manual\"])\n",
    "prisons[\"lng\"]= prisons[\"lng\"].fillna(prisons[\"lng_manual\"])"
   ]
  },
  {
   "cell_type": "code",
   "execution_count": 12,
   "metadata": {
    "collapsed": false
   },
   "outputs": [],
   "source": [
    "prisons = prisons[[\"moj_prison_name\", \"lat\", \"lng\", \"nomis_id\"]]\n",
    "final_pop_data = all_data.merge(prisons, left_on=\"prison_name_group\", right_on=\"moj_prison_name\")\n",
    "final_pop_data.head()\n",
    "final_pop_data[\"perc_pop_to_used_cna\"] = final_pop_data[\"population\"]*1.0/final_pop_data[\"in_use_cna\"]*1.0\n",
    "final_pop_data[\"perc_acc_available\"] = final_pop_data[\"in_use_cna\"]*1.0/final_pop_data[\"baseline_cna\"]*1.0"
   ]
  },
  {
   "cell_type": "code",
   "execution_count": 13,
   "metadata": {
    "collapsed": false
   },
   "outputs": [],
   "source": [
    "# join on meta data\n",
    "metas = pgs.drop_duplicates(\"prison_name_group\")\n",
    "metas = metas.drop([\"prison_name_original\", \"prison_meta_info_source\", \"closed\", \"done\"], axis=1)\n",
    "final_pop_data = final_pop_data.merge(metas, left_on = \"prison_name_group\", right_on=\"prison_name_group\", how=\"left\")"
   ]
  },
  {
   "cell_type": "code",
   "execution_count": 14,
   "metadata": {
    "collapsed": false
   },
   "outputs": [
    {
     "name": "stderr",
     "output_type": "stream",
     "text": [
      "/Users/robinlinacre/anaconda/lib/python2.7/site-packages/ipykernel/__main__.py:1: FutureWarning: sort(columns=....) is deprecated, use sort_values(by=.....)\n",
      "  if __name__ == '__main__':\n"
     ]
    }
   ],
   "source": [
    "final_pop_data = final_pop_data.sort([\"moj_prison_name\", \"date\"])\n",
    "final_pop_data = final_pop_data.drop(\"prison_name_group\", axis=1)\n",
    "final_pop_data.to_csv(\"pop_data/final_full_time_series.csv\", index=False)\n",
    "final_pop_data.to_csv(\"../web/data/final_full_time_series.csv\", index=False)"
   ]
  },
  {
   "cell_type": "code",
   "execution_count": null,
   "metadata": {
    "collapsed": true
   },
   "outputs": [],
   "source": []
  }
 ],
 "metadata": {
  "kernelspec": {
   "display_name": "Python 2",
   "language": "python",
   "name": "python2"
  },
  "language_info": {
   "codemirror_mode": {
    "name": "ipython",
    "version": 2
   },
   "file_extension": ".py",
   "mimetype": "text/x-python",
   "name": "python",
   "nbconvert_exporter": "python",
   "pygments_lexer": "ipython2",
   "version": "2.7.11"
  }
 },
 "nbformat": 4,
 "nbformat_minor": 0
}
