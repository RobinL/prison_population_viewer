{
 "cells": [
  {
   "cell_type": "code",
   "execution_count": 1,
   "metadata": {
    "collapsed": false
   },
   "outputs": [],
   "source": [
    "from selenium import webdriver\n",
    "import pandas as pd\n",
    "from bs4 import BeautifulSoup\n",
    "driver = webdriver.Firefox()\n",
    "import time\n",
    "import re"
   ]
  },
  {
   "cell_type": "code",
   "execution_count": 3,
   "metadata": {
    "collapsed": true
   },
   "outputs": [],
   "source": [
    "df = pd.read_csv(\"all_prisons_including_closed.csv\")"
   ]
  },
  {
   "cell_type": "code",
   "execution_count": 13,
   "metadata": {
    "collapsed": false
   },
   "outputs": [],
   "source": [
    "urls = []\n",
    "url_template = \"https://www.google.co.uk/webhp?sourceid=chrome-instant&ion=1&espv=2&ie=UTF-8#q={}%20prison\"\n",
    "for r in df[137:].iterrows():\n",
    "    row = r[1]\n",
    "    index = r[0]\n",
    "    prison_name = row[\"prison_name\"]\n",
    "    url = url_template.format(prison_name)\n",
    "    \n",
    "    driver.get(url)\n",
    "    time.sleep(3)\n",
    "    source = driver.page_source\n",
    "    soup = BeautifulSoup(source, \"lxml\")\n",
    "#     soup.find(class_ = \"_G1d _wle _xle\")\n",
    "    data = \"\\n\".join([a.text for a in soup.find(class_ = \"_G1d _wle _xle\").findAll(class_=\"mod\")])\n",
    "    df.loc[index, \"data\"] = data\n",
    "    time.sleep(1)"
   ]
  },
  {
   "cell_type": "code",
   "execution_count": 14,
   "metadata": {
    "collapsed": false
   },
   "outputs": [],
   "source": [
    "df.to_csv(\"google_scraped.csv\", index=False, encoding=\"utf-8\")"
   ]
  }
 ],
 "metadata": {
  "kernelspec": {
   "display_name": "Python 2",
   "language": "python",
   "name": "python2"
  },
  "language_info": {
   "codemirror_mode": {
    "name": "ipython",
    "version": 2
   },
   "file_extension": ".py",
   "mimetype": "text/x-python",
   "name": "python",
   "nbconvert_exporter": "python",
   "pygments_lexer": "ipython2",
   "version": "2.7.11"
  }
 },
 "nbformat": 4,
 "nbformat_minor": 0
}
