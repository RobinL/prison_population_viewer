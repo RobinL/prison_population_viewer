{
 "cells": [
  {
   "cell_type": "code",
   "execution_count": 1,
   "metadata": {
    "collapsed": true
   },
   "outputs": [],
   "source": [
    "import pandas as pd\n",
    "import re"
   ]
  },
  {
   "cell_type": "code",
   "execution_count": 2,
   "metadata": {
    "collapsed": false
   },
   "outputs": [],
   "source": [
    "df = pd.read_csv(\"google_scraped.csv\")"
   ]
  },
  {
   "cell_type": "code",
   "execution_count": 3,
   "metadata": {
    "collapsed": true
   },
   "outputs": [],
   "source": [
    "def get_address(all_text):\n",
    "    try:\n",
    "        parts = all_text.split(\"\\n\")\n",
    "        for part in parts:\n",
    "            if \"Address:\" in part:\n",
    "                return part.replace(\"Address:\",\"\").strip()\n",
    "    except:\n",
    "        return None\n",
    "    \n",
    "def get_opened(all_text):\n",
    "    try:\n",
    "        parts = all_text.split(\"\\n\")\n",
    "        for part in parts:\n",
    "            if \"Opened:\" in part:\n",
    "                return part.replace(\"Opened:\",\"\").strip()\n",
    "    except:\n",
    "        return None\n",
    "    \n",
    "def get_capacity(all_text):\n",
    "    try:\n",
    "        parts = all_text.split(\"\\n\")\n",
    "        for part in parts:\n",
    "            if \"Capacity:\" in part:\n",
    "                return part.replace(\"Capacity:\",\"\").strip()\n",
    "    except:\n",
    "        return None\n",
    "\n",
    "def get_male_female(all_text):\n",
    "    try:\n",
    "        all_text = all_text.lower()\n",
    "        response = []\n",
    "        if \" male\" in all_text or \" men\" in all_text:\n",
    "            response.append(\"male\")\n",
    "\n",
    "        if \"female\" in all_text or \"women\" in all_text:\n",
    "            response.append(\"female\")\n",
    "\n",
    "        if \"yoi\" in all_text or \"young offender\" in all_text:\n",
    "            response.append(\"yoi\")\n",
    "\n",
    "        return \", \".join(response)\n",
    "    except:\n",
    "        return \"\"\n",
    "\n",
    "def get_category(all_text):\n",
    "    cats = []\n",
    "    try:\n",
    "        all_text = all_text.lower()\n",
    "        \n",
    "        if \"open prison\" in all_text or \"open category\" in all_text:\n",
    "            cats.append(\"open\")\n",
    "            \n",
    "        a = re.search(r\"category (\\w/\\w |\\w ?& ?\\w |\\w )\", all_text)\n",
    "        \n",
    "        if a:\n",
    "            cats.append(a.group(1))\n",
    "        \n",
    "        return \", \".join(cats)\n",
    "    except:\n",
    "        return \"\"\n",
    "    \n",
    "def get_postcode(address_string):\n",
    "    \"\"\"\n",
    "    Takes an address and returns the postcode, or None if no postcode is found.\n",
    "    \"\"\"\n",
    "    try:\n",
    "        address_string = address_string.upper()\n",
    "        pc_regex = \"([A-PR-UWYZ]([1-9]([0-9]|[A-HJKSTUW])?|[A-HK-Y][1-9]([0-9]|[ABEHMNPRVWXY])?) *[0-9][ABD-HJLNP-UW-Z]{2}|GIR *0AA)\"\n",
    "        matches = re.search(pc_regex, address_string)\n",
    "\n",
    "        if matches:\n",
    "            return matches.group(1)\n",
    "        else:\n",
    "            return None\n",
    "    except:\n",
    "        return None"
   ]
  },
  {
   "cell_type": "code",
   "execution_count": 4,
   "metadata": {
    "collapsed": false
   },
   "outputs": [],
   "source": [
    "df[\"gscraped_address\"] = df[\"data\"].apply(get_address)\n",
    "df[\"gscraped_opened\"] = df[\"data\"].apply(get_opened)\n",
    "df[\"gscraped_capacity\"] = df[\"data\"].apply(get_capacity)\n",
    "df[\"gscraped_type\"] = df[\"data\"].apply(get_male_female)\n",
    "df[\"gscraped_cat\"] = df[\"data\"].apply(get_category)\n",
    "df[\"gscraped_postcode\"] = df[\"gscraped_address\"].apply(get_postcode)"
   ]
  },
  {
   "cell_type": "code",
   "execution_count": null,
   "metadata": {
    "collapsed": false
   },
   "outputs": [],
   "source": []
  },
  {
   "cell_type": "code",
   "execution_count": 5,
   "metadata": {
    "collapsed": false
   },
   "outputs": [],
   "source": [
    "# Get postcode and geocode :-)\n",
    "import psycopg2\n",
    "con_string = \"host='localhost' dbname='postgres' user='postgres' password=''\"\n",
    "conn = psycopg2.connect(con_string)\n",
    "cursor = conn.cursor()\n",
    "\n",
    "sql = \"\"\"\n",
    "select\n",
    "ST_X(ST_TRANSFORM(geom, 4326)) as lng,\n",
    "ST_Y(ST_TRANSFORM(geom,4326)) as lat,\n",
    "postcode\n",
    "from all_addresses\n",
    "where postcode = '{}'\n",
    "\"\"\"\n",
    "\n",
    "\n",
    "for r in df.iterrows():\n",
    "    row = r[1]\n",
    "    index = r[0]\n",
    "    \n",
    "    pc = pd.read_sql(sql.format(row[\"gscraped_postcode\"]),conn)\n",
    "    \n",
    "    if len(pc)>0:\n",
    "        df.loc[index, \"gscraped_lat\"] = pc.loc[0,\"lat\"]\n",
    "        df.loc[index, \"gscraped_lng\"] = pc.loc[0,\"lng\"]\n",
    "        \n",
    "        "
   ]
  },
  {
   "cell_type": "code",
   "execution_count": 6,
   "metadata": {
    "collapsed": false
   },
   "outputs": [],
   "source": [
    "df = df.drop([\"baseline_cna\",\"in_use_cna\",\"operational_capacity\",\"population\",\"perc_pop_to_used_cna\",\"perc_acc_available\"],axis=1)\n",
    "df = df.rename(columns={\"data\": \"gscraped_desc\", \"prison_name\":\"moj_prison_name\"})"
   ]
  },
  {
   "cell_type": "code",
   "execution_count": 7,
   "metadata": {
    "collapsed": false
   },
   "outputs": [],
   "source": [
    "df.to_csv(\"google_scraped_processed.csv\", index=False, encoding=\"utf-8\")"
   ]
  },
  {
   "cell_type": "code",
   "execution_count": null,
   "metadata": {
    "collapsed": false
   },
   "outputs": [],
   "source": []
  },
  {
   "cell_type": "code",
   "execution_count": null,
   "metadata": {
    "collapsed": true
   },
   "outputs": [],
   "source": []
  }
 ],
 "metadata": {
  "kernelspec": {
   "display_name": "Python 2",
   "language": "python",
   "name": "python2"
  },
  "language_info": {
   "codemirror_mode": {
    "name": "ipython",
    "version": 2
   },
   "file_extension": ".py",
   "mimetype": "text/x-python",
   "name": "python",
   "nbconvert_exporter": "python",
   "pygments_lexer": "ipython2",
   "version": "2.7.11"
  }
 },
 "nbformat": 4,
 "nbformat_minor": 0
}
